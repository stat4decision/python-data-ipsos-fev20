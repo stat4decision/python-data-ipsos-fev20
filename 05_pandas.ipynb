{
 "cells": [
  {
   "cell_type": "markdown",
   "metadata": {
    "slideshow": {
     "slide_type": "slide"
    }
   },
   "source": [
    "![image](./images/pandas.png)\n",
    "\n",
    "Pandas est le package de prédilection pour traiter des données structurées.\n",
    "\n",
    "Pandas est basé sur 2 structures extrêmement liées les Series et le DataFrame.\n",
    "\n",
    "Ces deux structures permettent de traiter des données sous forme de tableaux indexés.\n",
    "\n",
    "Les classes de Pandas utilisent des classes de Numpy, il est donc possible d'utiliser les fonctions universelles de Numpy sur les objets Pandas."
   ]
  },
  {
   "cell_type": "code",
   "execution_count": 1,
   "metadata": {
    "slideshow": {
     "slide_type": "subslide"
    }
   },
   "outputs": [],
   "source": [
    "# on importe pandas avec :\n",
    "import pandas as pd\n",
    "import numpy as np\n",
    "%matplotlib inline"
   ]
  },
  {
   "cell_type": "markdown",
   "metadata": {
    "slideshow": {
     "slide_type": "slide"
    }
   },
   "source": [
    "# Les Series de Pandas\n",
    "\n",
    "- Les Series sont indexées, c'est leur avantage sur les arrays de NumPy\n",
    "- On peut utiliser les fonctions `.values` et `.index` pour voir les différentes parties de chaque Series\n",
    "- On définit une Series par `pd.Series([,], index=['','',])`\n",
    "- On peut appeler un élément avec `ma_serie['France']`\n",
    "- On peut aussi faire des conditions :\n",
    "```python\n",
    "ma_serie[ma_serie>5000000]\n",
    "```\n",
    "```\n",
    "'France' in ma_serie\n",
    "```\n",
    "- Les objets Series peuvent être transformés en dictionnaires en utilisant :\n",
    "`.to_dict()`"
   ]
  },
  {
   "cell_type": "markdown",
   "metadata": {
    "slideshow": {
     "slide_type": "subslide"
    }
   },
   "source": [
    "**Exercice :**\n",
    "    \n",
    "Définir un objet Series comprenant la population de 5 pays puis afficher les pays ayant une population > 50’000’000.\n"
   ]
  },
  {
   "cell_type": "code",
   "execution_count": 2,
   "metadata": {},
   "outputs": [],
   "source": [
    "ser_pop = pd.Series([70,8,300,1200],index=[\"France\",\"Suisse\",\"USA\",\"Chine\"])"
   ]
  },
  {
   "cell_type": "code",
   "execution_count": 3,
   "metadata": {},
   "outputs": [
    {
     "data": {
      "text/plain": [
       "France      70\n",
       "Suisse       8\n",
       "USA        300\n",
       "Chine     1200\n",
       "dtype: int64"
      ]
     },
     "execution_count": 3,
     "metadata": {},
     "output_type": "execute_result"
    }
   ],
   "source": [
    "ser_pop"
   ]
  },
  {
   "cell_type": "code",
   "execution_count": 4,
   "metadata": {},
   "outputs": [
    {
     "data": {
      "text/plain": [
       "70"
      ]
     },
     "execution_count": 4,
     "metadata": {},
     "output_type": "execute_result"
    }
   ],
   "source": [
    "# on extrait une valeur avec une clé\n",
    "ser_pop[\"France\"]"
   ]
  },
  {
   "cell_type": "code",
   "execution_count": 5,
   "metadata": {},
   "outputs": [
    {
     "data": {
      "text/plain": [
       "70"
      ]
     },
     "execution_count": 5,
     "metadata": {},
     "output_type": "execute_result"
    }
   ],
   "source": [
    "# on peut aussi utiliser une position avec .iloc[]\n",
    "ser_pop.iloc[0]"
   ]
  },
  {
   "cell_type": "code",
   "execution_count": 6,
   "metadata": {},
   "outputs": [
    {
     "data": {
      "text/plain": [
       "France      70\n",
       "USA        300\n",
       "Chine     1200\n",
       "dtype: int64"
      ]
     },
     "execution_count": 6,
     "metadata": {},
     "output_type": "execute_result"
    }
   ],
   "source": [
    "# on applique la condition entre []\n",
    "ser_pop[ser_pop>50]"
   ]
  },
  {
   "cell_type": "markdown",
   "metadata": {
    "slideshow": {
     "slide_type": "subslide"
    }
   },
   "source": [
    "# D'autres opérations sur les objets series\n",
    "\n",
    "- Pour définir le nom de la Series, on utilise `.name`\n",
    "- Pour définir le titre de la colonne des observations, on utilise `.index.name`"
   ]
  },
  {
   "cell_type": "markdown",
   "metadata": {
    "slideshow": {
     "slide_type": "subslide"
    }
   },
   "source": [
    "**Exercice :**\n",
    "    \n",
    "Définir les noms de l’objet et de la colonne des pays pour la Series précédente\n"
   ]
  },
  {
   "cell_type": "code",
   "execution_count": 7,
   "metadata": {},
   "outputs": [],
   "source": [
    "ser_pop.name = \"Populations\"\n",
    "ser_pop.index.name = \"Pays\""
   ]
  },
  {
   "cell_type": "code",
   "execution_count": 8,
   "metadata": {},
   "outputs": [
    {
     "data": {
      "text/plain": [
       "Pays\n",
       "France      70\n",
       "Suisse       8\n",
       "USA        300\n",
       "Chine     1200\n",
       "Name: Populations, dtype: int64"
      ]
     },
     "execution_count": 8,
     "metadata": {},
     "output_type": "execute_result"
    }
   ],
   "source": [
    "ser_pop"
   ]
  },
  {
   "cell_type": "markdown",
   "metadata": {
    "slideshow": {
     "slide_type": "subslide"
    }
   },
   "source": [
    "# Les données manquantes\n",
    "\n",
    "Dans pandas, les données manquantes sont identifiés avec les fonctions de Numpy (`np.nan`). On a d'autres fonctions telles que :"
   ]
  },
  {
   "cell_type": "code",
   "execution_count": 9,
   "metadata": {},
   "outputs": [
    {
     "data": {
      "text/plain": [
       "a    2.0\n",
       "b    NaN\n",
       "c    4.0\n",
       "dtype: float64"
      ]
     },
     "execution_count": 9,
     "metadata": {},
     "output_type": "execute_result"
    }
   ],
   "source": [
    "pd.Series([2,np.nan,4],index=['a','b','c'])"
   ]
  },
  {
   "cell_type": "code",
   "execution_count": 10,
   "metadata": {
    "slideshow": {
     "slide_type": "fragment"
    }
   },
   "outputs": [
    {
     "data": {
      "text/plain": [
       "a    False\n",
       "b     True\n",
       "c    False\n",
       "dtype: bool"
      ]
     },
     "execution_count": 10,
     "metadata": {},
     "output_type": "execute_result"
    }
   ],
   "source": [
    "pd.isna(pd.Series([2,np.nan,4],index=['a','b','c']))"
   ]
  },
  {
   "cell_type": "code",
   "execution_count": 11,
   "metadata": {
    "slideshow": {
     "slide_type": "fragment"
    }
   },
   "outputs": [
    {
     "data": {
      "text/plain": [
       "a     True\n",
       "b    False\n",
       "c     True\n",
       "dtype: bool"
      ]
     },
     "execution_count": 11,
     "metadata": {},
     "output_type": "execute_result"
    }
   ],
   "source": [
    "pd.notna(pd.Series([2,np.nan,4],index=['a','b','c']))"
   ]
  },
  {
   "cell_type": "markdown",
   "metadata": {
    "slideshow": {
     "slide_type": "slide"
    }
   },
   "source": [
    "# Les dates avec pandas\n",
    "\n",
    "- Python possède un module datetime qui permet de gérer facilement des dates\n",
    "- Pandas permet d'appliquer les opérations sur les dates aux Series et aux DataFrame\n",
    "- Le format es dates Python est `YYYY-MM-DD HH:MM:SS`\n",
    "\n",
    "- On peut générer des dates avec la fonction `pd.date_range()` avec différente fréquences `freq=`\n",
    "- On peut utiliser ces dates comme index dans un DataFrame ou dans un objet Series\n",
    "- On peut changer la fréquence en utilisant `.asfreq()`\n",
    "- Pour transformer une chaine de caractère en date, on utilise `pd.to_datetime()` avec l’option `dayfirst=True` si on est dans le cas français\n",
    "-On pourra aussi spécifier un format pour accélérer le processus `%Y%m%d`"
   ]
  },
  {
   "cell_type": "markdown",
   "metadata": {
    "slideshow": {
     "slide_type": "subslide"
    }
   },
   "source": [
    "**Exercice :**\n",
    "\n",
    "Créez un objet Series et ajoutez des dates partant du 3 octobre 2017 par jour jusqu’à aujourd’hui. Afficher le résultat dans un graphique (on utilisera la méthode `.plot()`"
   ]
  },
  {
   "cell_type": "code",
   "execution_count": 12,
   "metadata": {
    "slideshow": {
     "slide_type": "fragment"
    }
   },
   "outputs": [
    {
     "data": {
      "text/plain": [
       "<matplotlib.axes._subplots.AxesSubplot at 0x1b8eb0d4ac8>"
      ]
     },
     "execution_count": 12,
     "metadata": {},
     "output_type": "execute_result"
    },
    {
     "data": {
      "image/png": "[encoded data removed]",
      "text/plain": [
       "<Figure size 432x288 with 1 Axes>"
      ]
     },
     "metadata": {
      "needs_background": "light"
     },
     "output_type": "display_data"
    }
   ],
   "source": [
    "dates = pd.date_range(\"2017-10-03\", \"2020-02-27\",freq=\"W\")\n",
    "\n",
    "valeurs = np.random.random(size=len(dates))\n",
    "ma_serie=pd.Series(valeurs, index =dates)\n",
    "ma_serie.plot()"
   ]
  },
  {
   "cell_type": "code",
   "execution_count": 13,
   "metadata": {},
   "outputs": [
    {
     "data": {
      "text/plain": [
       "125"
      ]
     },
     "execution_count": 13,
     "metadata": {},
     "output_type": "execute_result"
    }
   ],
   "source": [
    "len(dates)"
   ]
  },
  {
   "cell_type": "markdown",
   "metadata": {
    "slideshow": {
     "slide_type": "slide"
    }
   },
   "source": [
    "# Le DataFrame \n",
    "\n",
    "- Les DataFrame sont des objets très souples pouvant être construits de différentes façon\n",
    "- On peut les construire en récupérant des données copier / coller, où directement sur Internet, ou en entrant les valeurs manuellement\n",
    "\n",
    "\n",
    "- Les DataFrame se rapprochent des dictionnaires et on peut construire ces objets en utilisant `DataFrame(dico)`\n",
    "- De nombreux détails sur la création des DataFrame se trouve sur ce site :\n",
    "\n",
    "<http://pandas.pydata.org/pandas-docs/dev/generated/pandas.DataFrame.html>\n"
   ]
  },
  {
   "cell_type": "markdown",
   "metadata": {
    "slideshow": {
     "slide_type": "subslide"
    }
   },
   "source": [
    "# Construction de DataFrame\n",
    "\n",
    "On peut simplement construire un DataFrame avec le classe pd.DataFrame() à partir de différentes structures :"
   ]
  },
  {
   "cell_type": "code",
   "execution_count": 14,
   "metadata": {
    "slideshow": {
     "slide_type": "fragment"
    }
   },
   "outputs": [
    {
     "data": {
      "text/html": [
       "<div>\n",
       "<style scoped>\n",
       "    .dataframe tbody tr th:only-of-type {\n",
       "        vertical-align: middle;\n",
       "    }\n",
       "\n",
       "    .dataframe tbody tr th {\n",
       "        vertical-align: top;\n",
       "    }\n",
       "\n",
       "    .dataframe thead th {\n",
       "        text-align: right;\n",
       "    }\n",
       "</style>\n",
       "<table border=\"1\" class=\"dataframe\">\n",
       "  <thead>\n",
       "    <tr style=\"text-align: right;\">\n",
       "      <th></th>\n",
       "      <th>col_0</th>\n",
       "      <th>col_1</th>\n",
       "    </tr>\n",
       "  </thead>\n",
       "  <tbody>\n",
       "    <tr>\n",
       "      <th>obs_0</th>\n",
       "      <td>-1.226662</td>\n",
       "      <td>-0.829278</td>\n",
       "    </tr>\n",
       "    <tr>\n",
       "      <th>obs_1</th>\n",
       "      <td>-0.059624</td>\n",
       "      <td>0.272161</td>\n",
       "    </tr>\n",
       "    <tr>\n",
       "      <th>obs_2</th>\n",
       "      <td>-1.947635</td>\n",
       "      <td>-3.129201</td>\n",
       "    </tr>\n",
       "    <tr>\n",
       "      <th>obs_3</th>\n",
       "      <td>0.601897</td>\n",
       "      <td>0.547773</td>\n",
       "    </tr>\n",
       "    <tr>\n",
       "      <th>obs_4</th>\n",
       "      <td>-0.693393</td>\n",
       "      <td>1.307139</td>\n",
       "    </tr>\n",
       "  </tbody>\n",
       "</table>\n",
       "</div>"
      ],
      "text/plain": [
       "          col_0     col_1\n",
       "obs_0 -1.226662 -0.829278\n",
       "obs_1 -0.059624  0.272161\n",
       "obs_2 -1.947635 -3.129201\n",
       "obs_3  0.601897  0.547773\n",
       "obs_4 -0.693393  1.307139"
      ]
     },
     "execution_count": 14,
     "metadata": {},
     "output_type": "execute_result"
    }
   ],
   "source": [
    "frame1=pd.DataFrame(np.random.randn(10).reshape(5,2),\n",
    "             index=[\"obs_\"+str(i) for i in range(5)],\n",
    "             columns=[\"col_\"+str(i) for i in range(2)])\n",
    "frame1"
   ]
  },
  {
   "cell_type": "markdown",
   "metadata": {
    "slideshow": {
     "slide_type": "subslide"
    }
   },
   "source": [
    "# Opérations sur les DataFrame\n",
    "\n",
    "On peut afficher le nom des colonnes :"
   ]
  },
  {
   "cell_type": "code",
   "execution_count": 15,
   "metadata": {
    "slideshow": {
     "slide_type": "fragment"
    }
   },
   "outputs": [
    {
     "name": "stdout",
     "output_type": "stream",
     "text": [
      "Index(['col_0', 'col_1'], dtype='object')\n"
     ]
    }
   ],
   "source": [
    "print(frame1.columns)"
   ]
  },
  {
   "cell_type": "markdown",
   "metadata": {
    "slideshow": {
     "slide_type": "fragment"
    }
   },
   "source": [
    "On peut accéder à une colonne avec :\n",
    "- `frame1.col_0` : attention au cas de nom de colonnes avec des espaces...\n",
    "- `frame1['col_0']`\n",
    "\n",
    "On peut accéder à une cellule avec :\n",
    "- `frame1.loc['obs1','col_0']` : on utilise les index et le nom des colonnes\n",
    "- `frame1.iloc[1,0]` : on utilise les positions dans le DataFrame\n"
   ]
  },
  {
   "cell_type": "markdown",
   "metadata": {
    "slideshow": {
     "slide_type": "subslide"
    }
   },
   "source": [
    "# Options de visualisation et de résumé\n",
    "\n",
    "Pour afficher les 3 premières lignes, on peut utiliser :\n"
   ]
  },
  {
   "cell_type": "code",
   "execution_count": 16,
   "metadata": {
    "slideshow": {
     "slide_type": "fragment"
    }
   },
   "outputs": [
    {
     "data": {
      "text/html": [
       "<div>\n",
       "<style scoped>\n",
       "    .dataframe tbody tr th:only-of-type {\n",
       "        vertical-align: middle;\n",
       "    }\n",
       "\n",
       "    .dataframe tbody tr th {\n",
       "        vertical-align: top;\n",
       "    }\n",
       "\n",
       "    .dataframe thead th {\n",
       "        text-align: right;\n",
       "    }\n",
       "</style>\n",
       "<table border=\"1\" class=\"dataframe\">\n",
       "  <thead>\n",
       "    <tr style=\"text-align: right;\">\n",
       "      <th></th>\n",
       "      <th>col_0</th>\n",
       "      <th>col_1</th>\n",
       "    </tr>\n",
       "  </thead>\n",
       "  <tbody>\n",
       "    <tr>\n",
       "      <th>obs_0</th>\n",
       "      <td>-1.226662</td>\n",
       "      <td>-0.829278</td>\n",
       "    </tr>\n",
       "    <tr>\n",
       "      <th>obs_1</th>\n",
       "      <td>-0.059624</td>\n",
       "      <td>0.272161</td>\n",
       "    </tr>\n",
       "    <tr>\n",
       "      <th>obs_2</th>\n",
       "      <td>-1.947635</td>\n",
       "      <td>-3.129201</td>\n",
       "    </tr>\n",
       "  </tbody>\n",
       "</table>\n",
       "</div>"
      ],
      "text/plain": [
       "          col_0     col_1\n",
       "obs_0 -1.226662 -0.829278\n",
       "obs_1 -0.059624  0.272161\n",
       "obs_2 -1.947635 -3.129201"
      ]
     },
     "execution_count": 16,
     "metadata": {},
     "output_type": "execute_result"
    }
   ],
   "source": [
    "frame1.head(3)"
   ]
  },
  {
   "cell_type": "markdown",
   "metadata": {
    "slideshow": {
     "slide_type": "subslide"
    }
   },
   "source": [
    "Pour afficher un résumé du DF :"
   ]
  },
  {
   "cell_type": "code",
   "execution_count": 17,
   "metadata": {
    "slideshow": {
     "slide_type": "fragment"
    }
   },
   "outputs": [
    {
     "name": "stdout",
     "output_type": "stream",
     "text": [
      "<class 'pandas.core.frame.DataFrame'>\n",
      "Index: 5 entries, obs_0 to obs_4\n",
      "Data columns (total 2 columns):\n",
      " #   Column  Non-Null Count  Dtype  \n",
      "---  ------  --------------  -----  \n",
      " 0   col_0   5 non-null      float64\n",
      " 1   col_1   5 non-null      float64\n",
      "dtypes: float64(2)\n",
      "memory usage: 120.0+ bytes\n"
     ]
    }
   ],
   "source": [
    "frame1.info()"
   ]
  },
  {
   "cell_type": "markdown",
   "metadata": {
    "slideshow": {
     "slide_type": "slide"
    }
   },
   "source": [
    "# Importer des données externes\n",
    "\n",
    "Pandas est l'outil le plus efficace pour importer des données externes, il prend en charge de nombreux formats dont csv, Excel, SQL, SAS...\n",
    "\n",
    "\n",
    "## Importation de données avec Pandas\n",
    "\n",
    "Quel que soit le type de fichier, Pandas possède une fonction :\n",
    "```python\n",
    "frame=pd.read_...('chemin_du_fichier/nom_du_fichier',...)\n",
    "```\n",
    "Pour écrire un DataFrame dans un fichier, on utilise :\n",
    "```python\n",
    "frame.to_...('chemin_du_fichier/nom_du_fichier',...)\n",
    "```"
   ]
  },
  {
   "cell_type": "markdown",
   "metadata": {
    "slideshow": {
     "slide_type": "subslide"
    }
   },
   "source": [
    "**Exercice :**\n",
    "    \n",
    "Importer un fichier `.csv` avec `pd.read_csv()`. On utilisera le fichier \"./data/airbnb.csv\""
   ]
  },
  {
   "cell_type": "code",
   "execution_count": 18,
   "metadata": {},
   "outputs": [
    {
     "name": "stderr",
     "output_type": "stream",
     "text": [
      "C:\\Users\\s4d-asus-14\\Anaconda3\\lib\\site-packages\\IPython\\core\\interactiveshell.py:3063: DtypeWarning: Columns (43,61,62) have mixed types.Specify dtype option on import or set low_memory=False.\n",
      "  interactivity=interactivity, compiler=compiler, result=result)\n"
     ]
    }
   ],
   "source": [
    "# on prend la colonne id comme index de notre DataFrame\n",
    "airbnb = pd.read_csv(\"https://www.stat4decision.com/airbnb.csv\",index_col=\"id\")"
   ]
  },
  {
   "cell_type": "code",
   "execution_count": 19,
   "metadata": {},
   "outputs": [
    {
     "name": "stdout",
     "output_type": "stream",
     "text": [
      "<class 'pandas.core.frame.DataFrame'>\n",
      "Int64Index: 59126 entries, 3109 to 34477345\n",
      "Columns: 105 entries, listing_url to reviews_per_month\n",
      "dtypes: float64(23), int64(20), object(62)\n",
      "memory usage: 47.8+ MB\n"
     ]
    }
   ],
   "source": [
    "airbnb.info()"
   ]
  },
  {
   "cell_type": "code",
   "execution_count": 20,
   "metadata": {},
   "outputs": [
    {
     "data": {
      "text/plain": [
       "$80.00       2933\n",
       "$60.00       2895\n",
       "$70.00       2794\n",
       "$50.00       2779\n",
       "$100.00      2486\n",
       "             ... \n",
       "$969.00         1\n",
       "$1,740.00       1\n",
       "$1,190.00       1\n",
       "$542.00         1\n",
       "$8,288.00       1\n",
       "Name: price, Length: 677, dtype: int64"
      ]
     },
     "execution_count": 20,
     "metadata": {},
     "output_type": "execute_result"
    }
   ],
   "source": [
    "# la colonne price est sous forme d'objet et donc de chaîne de caractères\n",
    "# on a 2933 locations qui coûtent 80$ la nuit\n",
    "airbnb[\"price\"].value_counts()"
   ]
  },
  {
   "cell_type": "code",
   "execution_count": 21,
   "metadata": {},
   "outputs": [
    {
     "data": {
      "text/html": [
       "<div>\n",
       "<style scoped>\n",
       "    .dataframe tbody tr th:only-of-type {\n",
       "        vertical-align: middle;\n",
       "    }\n",
       "\n",
       "    .dataframe tbody tr th {\n",
       "        vertical-align: top;\n",
       "    }\n",
       "\n",
       "    .dataframe thead th {\n",
       "        text-align: right;\n",
       "    }\n",
       "</style>\n",
       "<table border=\"1\" class=\"dataframe\">\n",
       "  <thead>\n",
       "    <tr style=\"text-align: right;\">\n",
       "      <th></th>\n",
       "      <th>CODGEO</th>\n",
       "      <th>LIBGEO</th>\n",
       "      <th>REG</th>\n",
       "      <th>DEP</th>\n",
       "      <th>P14_POP</th>\n",
       "      <th>P09_POP</th>\n",
       "      <th>SUPERF</th>\n",
       "      <th>NAIS0914</th>\n",
       "      <th>DECE0914</th>\n",
       "      <th>P14_MEN</th>\n",
       "      <th>...</th>\n",
       "      <th>ETAZ15</th>\n",
       "      <th>ETBE15</th>\n",
       "      <th>ETFZ15</th>\n",
       "      <th>ETGU15</th>\n",
       "      <th>ETGZ15</th>\n",
       "      <th>ETOQ15</th>\n",
       "      <th>ETTEF115</th>\n",
       "      <th>ETTEFP1015</th>\n",
       "      <th>Geo Shape</th>\n",
       "      <th>geo_point_2d</th>\n",
       "    </tr>\n",
       "  </thead>\n",
       "  <tbody>\n",
       "    <tr>\n",
       "      <th>0</th>\n",
       "      <td>95555</td>\n",
       "      <td>Saint-Gratien</td>\n",
       "      <td>11</td>\n",
       "      <td>95</td>\n",
       "      <td>20996.0</td>\n",
       "      <td>20258.0</td>\n",
       "      <td>2.42</td>\n",
       "      <td>1564.0</td>\n",
       "      <td>749.0</td>\n",
       "      <td>8909.817815</td>\n",
       "      <td>...</td>\n",
       "      <td>3.0</td>\n",
       "      <td>38.0</td>\n",
       "      <td>142.0</td>\n",
       "      <td>1078.0</td>\n",
       "      <td>225.0</td>\n",
       "      <td>214.0</td>\n",
       "      <td>335.0</td>\n",
       "      <td>67.0</td>\n",
       "      <td>{\"type\": \"Polygon\", \"coordinates\": [[[2.274621...</td>\n",
       "      <td>48.9695044801, 2.28470111182</td>\n",
       "    </tr>\n",
       "    <tr>\n",
       "      <th>1</th>\n",
       "      <td>95488</td>\n",
       "      <td>Pierrelaye</td>\n",
       "      <td>11</td>\n",
       "      <td>95</td>\n",
       "      <td>8155.0</td>\n",
       "      <td>7920.0</td>\n",
       "      <td>9.21</td>\n",
       "      <td>639.0</td>\n",
       "      <td>243.0</td>\n",
       "      <td>2891.000000</td>\n",
       "      <td>...</td>\n",
       "      <td>8.0</td>\n",
       "      <td>47.0</td>\n",
       "      <td>135.0</td>\n",
       "      <td>623.0</td>\n",
       "      <td>241.0</td>\n",
       "      <td>65.0</td>\n",
       "      <td>228.0</td>\n",
       "      <td>72.0</td>\n",
       "      <td>{\"type\": \"Polygon\", \"coordinates\": [[[2.193617...</td>\n",
       "      <td>49.0190794714, 2.1606870483</td>\n",
       "    </tr>\n",
       "    <tr>\n",
       "      <th>2</th>\n",
       "      <td>95543</td>\n",
       "      <td>Saint-Cyr-en-Arthies</td>\n",
       "      <td>11</td>\n",
       "      <td>95</td>\n",
       "      <td>242.0</td>\n",
       "      <td>229.0</td>\n",
       "      <td>3.89</td>\n",
       "      <td>9.0</td>\n",
       "      <td>4.0</td>\n",
       "      <td>93.154812</td>\n",
       "      <td>...</td>\n",
       "      <td>2.0</td>\n",
       "      <td>0.0</td>\n",
       "      <td>2.0</td>\n",
       "      <td>5.0</td>\n",
       "      <td>2.0</td>\n",
       "      <td>4.0</td>\n",
       "      <td>4.0</td>\n",
       "      <td>0.0</td>\n",
       "      <td>{\"type\": \"Polygon\", \"coordinates\": [[[1.732068...</td>\n",
       "      <td>49.058878265, 1.74176317637</td>\n",
       "    </tr>\n",
       "    <tr>\n",
       "      <th>3</th>\n",
       "      <td>95523</td>\n",
       "      <td>La Roche-Guyon</td>\n",
       "      <td>11</td>\n",
       "      <td>95</td>\n",
       "      <td>446.0</td>\n",
       "      <td>447.0</td>\n",
       "      <td>4.61</td>\n",
       "      <td>18.0</td>\n",
       "      <td>21.0</td>\n",
       "      <td>186.507593</td>\n",
       "      <td>...</td>\n",
       "      <td>0.0</td>\n",
       "      <td>6.0</td>\n",
       "      <td>6.0</td>\n",
       "      <td>48.0</td>\n",
       "      <td>17.0</td>\n",
       "      <td>14.0</td>\n",
       "      <td>13.0</td>\n",
       "      <td>4.0</td>\n",
       "      <td>{\"type\": \"Polygon\", \"coordinates\": [[[1.623323...</td>\n",
       "      <td>49.0883415268, 1.63442788467</td>\n",
       "    </tr>\n",
       "    <tr>\n",
       "      <th>4</th>\n",
       "      <td>95678</td>\n",
       "      <td>Villiers-Adam</td>\n",
       "      <td>11</td>\n",
       "      <td>95</td>\n",
       "      <td>838.0</td>\n",
       "      <td>828.0</td>\n",
       "      <td>9.82</td>\n",
       "      <td>45.0</td>\n",
       "      <td>29.0</td>\n",
       "      <td>340.831981</td>\n",
       "      <td>...</td>\n",
       "      <td>6.0</td>\n",
       "      <td>3.0</td>\n",
       "      <td>8.0</td>\n",
       "      <td>53.0</td>\n",
       "      <td>12.0</td>\n",
       "      <td>5.0</td>\n",
       "      <td>14.0</td>\n",
       "      <td>2.0</td>\n",
       "      <td>{\"type\": \"Polygon\", \"coordinates\": [[[2.236020...</td>\n",
       "      <td>49.0697597649, 2.23847351378</td>\n",
       "    </tr>\n",
       "  </tbody>\n",
       "</table>\n",
       "<p>5 rows × 38 columns</p>\n",
       "</div>"
      ],
      "text/plain": [
       "   CODGEO                LIBGEO  REG  DEP  P14_POP  P09_POP  SUPERF  NAIS0914  \\\n",
       "0   95555         Saint-Gratien   11   95  20996.0  20258.0    2.42    1564.0   \n",
       "1   95488            Pierrelaye   11   95   8155.0   7920.0    9.21     639.0   \n",
       "2   95543  Saint-Cyr-en-Arthies   11   95    242.0    229.0    3.89       9.0   \n",
       "3   95523        La Roche-Guyon   11   95    446.0    447.0    4.61      18.0   \n",
       "4   95678         Villiers-Adam   11   95    838.0    828.0    9.82      45.0   \n",
       "\n",
       "   DECE0914      P14_MEN  ...  ETAZ15  ETBE15  ETFZ15  ETGU15  ETGZ15  ETOQ15  \\\n",
       "0     749.0  8909.817815  ...     3.0    38.0   142.0  1078.0   225.0   214.0   \n",
       "1     243.0  2891.000000  ...     8.0    47.0   135.0   623.0   241.0    65.0   \n",
       "2       4.0    93.154812  ...     2.0     0.0     2.0     5.0     2.0     4.0   \n",
       "3      21.0   186.507593  ...     0.0     6.0     6.0    48.0    17.0    14.0   \n",
       "4      29.0   340.831981  ...     6.0     3.0     8.0    53.0    12.0     5.0   \n",
       "\n",
       "   ETTEF115  ETTEFP1015                                          Geo Shape  \\\n",
       "0     335.0        67.0  {\"type\": \"Polygon\", \"coordinates\": [[[2.274621...   \n",
       "1     228.0        72.0  {\"type\": \"Polygon\", \"coordinates\": [[[2.193617...   \n",
       "2       4.0         0.0  {\"type\": \"Polygon\", \"coordinates\": [[[1.732068...   \n",
       "3      13.0         4.0  {\"type\": \"Polygon\", \"coordinates\": [[[1.623323...   \n",
       "4      14.0         2.0  {\"type\": \"Polygon\", \"coordinates\": [[[2.236020...   \n",
       "\n",
       "                   geo_point_2d  \n",
       "0  48.9695044801, 2.28470111182  \n",
       "1   49.0190794714, 2.1606870483  \n",
       "2   49.058878265, 1.74176317637  \n",
       "3  49.0883415268, 1.63442788467  \n",
       "4  49.0697597649, 2.23847351378  \n",
       "\n",
       "[5 rows x 38 columns]"
      ]
     },
     "execution_count": 21,
     "metadata": {},
     "output_type": "execute_result"
    }
   ],
   "source": [
    "dpt = pd.read_csv(\"./data/base-dpt.csv\", sep = \";\")\n",
    "dpt.head()"
   ]
  },
  {
   "cell_type": "code",
   "execution_count": 22,
   "metadata": {},
   "outputs": [
    {
     "name": "stdout",
     "output_type": "stream",
     "text": [
      "<class 'pandas.core.frame.DataFrame'>\n",
      "RangeIndex: 1300 entries, 0 to 1299\n",
      "Data columns (total 38 columns):\n",
      " #   Column         Non-Null Count  Dtype  \n",
      "---  ------         --------------  -----  \n",
      " 0   CODGEO         1300 non-null   int64  \n",
      " 1   LIBGEO         1300 non-null   object \n",
      " 2   REG            1300 non-null   int64  \n",
      " 3   DEP            1300 non-null   int64  \n",
      " 4   P14_POP        1297 non-null   float64\n",
      " 5   P09_POP        1297 non-null   float64\n",
      " 6   SUPERF         1297 non-null   float64\n",
      " 7   NAIS0914       1297 non-null   float64\n",
      " 8   DECE0914       1297 non-null   float64\n",
      " 9   P14_MEN        1297 non-null   float64\n",
      " 10  NAISD16        1296 non-null   float64\n",
      " 11  DECESD16       1296 non-null   float64\n",
      " 12  P14_LOG        1297 non-null   float64\n",
      " 13  P14_RP         1297 non-null   float64\n",
      " 14  P14_RSECOCC    1297 non-null   float64\n",
      " 15  P14_LOGVAC     1297 non-null   float64\n",
      " 16  P14_RP_PROP    1297 non-null   float64\n",
      " 17  NBMENFISC14    1280 non-null   float64\n",
      " 18  PIMP14         561 non-null    float64\n",
      " 19  MED14          1280 non-null   float64\n",
      " 20  TP6014         462 non-null    float64\n",
      " 21  P14_EMPLT      1297 non-null   float64\n",
      " 22  P14_EMPLT_SAL  1297 non-null   float64\n",
      " 23  P09_EMPLT      1300 non-null   float64\n",
      " 24  P14_POP1564    1297 non-null   float64\n",
      " 25  P14_CHOM1564   1297 non-null   float64\n",
      " 26  P14_ACT1564    1297 non-null   float64\n",
      " 27  ETTOT15        1299 non-null   float64\n",
      " 28  ETAZ15         1299 non-null   float64\n",
      " 29  ETBE15         1299 non-null   float64\n",
      " 30  ETFZ15         1299 non-null   float64\n",
      " 31  ETGU15         1299 non-null   float64\n",
      " 32  ETGZ15         1299 non-null   float64\n",
      " 33  ETOQ15         1299 non-null   float64\n",
      " 34  ETTEF115       1299 non-null   float64\n",
      " 35  ETTEFP1015     1299 non-null   float64\n",
      " 36  Geo Shape      1297 non-null   object \n",
      " 37  geo_point_2d   1297 non-null   object \n",
      "dtypes: float64(32), int64(3), object(3)\n",
      "memory usage: 386.1+ KB\n"
     ]
    }
   ],
   "source": [
    "dpt.info()"
   ]
  },
  {
   "cell_type": "markdown",
   "metadata": {
    "slideshow": {
     "slide_type": "subslide"
    }
   },
   "source": [
    "# D'autres types de données\n",
    "\n",
    "## JSON\n",
    "Les objets JSON ressemblent à des dictionnaires.\n",
    "\n",
    "On utilise le module `json` puis la fonction `json.loads()` pour transformer une entrée JSON en objet json\n",
    "\n",
    "## HTML\n",
    "On utilise `pd.read_html(url)`. Cet fonction est basée sur les packages `beautifulsoup` et `html5lib`\n",
    "\n",
    "Cette fonction renvoie une liste de DataFrame qui représentent tous les DataFrame de la page. On ira ensuite chercher l'élément qui nous intéresse avec `frame_list[0]`"
   ]
  },
  {
   "cell_type": "markdown",
   "metadata": {
    "slideshow": {
     "slide_type": "subslide"
    }
   },
   "source": [
    "**Exercice :**\n",
    "    \n",
    "Importez un tableau en html depuis la page <http://www.fdic.gov/bank/individual/failed/banklist.html>"
   ]
  },
  {
   "cell_type": "code",
   "execution_count": 23,
   "metadata": {},
   "outputs": [
    {
     "data": {
      "text/plain": [
       "list"
      ]
     },
     "execution_count": 23,
     "metadata": {},
     "output_type": "execute_result"
    }
   ],
   "source": [
    "bank = pd.read_html(\"http://www.fdic.gov/bank/individual/failed/banklist.html\")\n",
    "# read_html() stocke les tableaux d'une page web dans une liste\n",
    "type(bank)"
   ]
  },
  {
   "cell_type": "code",
   "execution_count": 24,
   "metadata": {},
   "outputs": [
    {
     "data": {
      "text/plain": [
       "1"
      ]
     },
     "execution_count": 24,
     "metadata": {},
     "output_type": "execute_result"
    }
   ],
   "source": [
    "len(bank)"
   ]
  },
  {
   "cell_type": "code",
   "execution_count": 25,
   "metadata": {},
   "outputs": [
    {
     "data": {
      "text/html": [
       "<div>\n",
       "<style scoped>\n",
       "    .dataframe tbody tr th:only-of-type {\n",
       "        vertical-align: middle;\n",
       "    }\n",
       "\n",
       "    .dataframe tbody tr th {\n",
       "        vertical-align: top;\n",
       "    }\n",
       "\n",
       "    .dataframe thead th {\n",
       "        text-align: right;\n",
       "    }\n",
       "</style>\n",
       "<table border=\"1\" class=\"dataframe\">\n",
       "  <thead>\n",
       "    <tr style=\"text-align: right;\">\n",
       "      <th></th>\n",
       "      <th>Bank Name</th>\n",
       "      <th>City</th>\n",
       "      <th>ST</th>\n",
       "      <th>CERT</th>\n",
       "      <th>Acquiring Institution</th>\n",
       "      <th>Closing Date</th>\n",
       "    </tr>\n",
       "  </thead>\n",
       "  <tbody>\n",
       "    <tr>\n",
       "      <th>0</th>\n",
       "      <td>Ericson State Bank</td>\n",
       "      <td>Ericson</td>\n",
       "      <td>NE</td>\n",
       "      <td>18265</td>\n",
       "      <td>Farmers and Merchants Bank</td>\n",
       "      <td>February 14, 2020</td>\n",
       "    </tr>\n",
       "    <tr>\n",
       "      <th>1</th>\n",
       "      <td>City National Bank of New Jersey</td>\n",
       "      <td>Newark</td>\n",
       "      <td>NJ</td>\n",
       "      <td>21111</td>\n",
       "      <td>Industrial Bank</td>\n",
       "      <td>November 1, 2019</td>\n",
       "    </tr>\n",
       "    <tr>\n",
       "      <th>2</th>\n",
       "      <td>Resolute Bank</td>\n",
       "      <td>Maumee</td>\n",
       "      <td>OH</td>\n",
       "      <td>58317</td>\n",
       "      <td>Buckeye State Bank</td>\n",
       "      <td>October 25, 2019</td>\n",
       "    </tr>\n",
       "    <tr>\n",
       "      <th>3</th>\n",
       "      <td>Louisa Community Bank</td>\n",
       "      <td>Louisa</td>\n",
       "      <td>KY</td>\n",
       "      <td>58112</td>\n",
       "      <td>Kentucky Farmers Bank Corporation</td>\n",
       "      <td>October 25, 2019</td>\n",
       "    </tr>\n",
       "    <tr>\n",
       "      <th>4</th>\n",
       "      <td>The Enloe State Bank</td>\n",
       "      <td>Cooper</td>\n",
       "      <td>TX</td>\n",
       "      <td>10716</td>\n",
       "      <td>Legend Bank, N. A.</td>\n",
       "      <td>May 31, 2019</td>\n",
       "    </tr>\n",
       "    <tr>\n",
       "      <th>5</th>\n",
       "      <td>Washington Federal Bank for Savings</td>\n",
       "      <td>Chicago</td>\n",
       "      <td>IL</td>\n",
       "      <td>30570</td>\n",
       "      <td>Royal Savings Bank</td>\n",
       "      <td>December 15, 2017</td>\n",
       "    </tr>\n",
       "    <tr>\n",
       "      <th>6</th>\n",
       "      <td>The Farmers and Merchants State Bank of Argonia</td>\n",
       "      <td>Argonia</td>\n",
       "      <td>KS</td>\n",
       "      <td>17719</td>\n",
       "      <td>Conway Bank</td>\n",
       "      <td>October 13, 2017</td>\n",
       "    </tr>\n",
       "    <tr>\n",
       "      <th>7</th>\n",
       "      <td>Fayette County Bank</td>\n",
       "      <td>Saint Elmo</td>\n",
       "      <td>IL</td>\n",
       "      <td>1802</td>\n",
       "      <td>United Fidelity Bank, fsb</td>\n",
       "      <td>May 26, 2017</td>\n",
       "    </tr>\n",
       "    <tr>\n",
       "      <th>8</th>\n",
       "      <td>Guaranty Bank, (d/b/a BestBank in Georgia &amp; Mi...</td>\n",
       "      <td>Milwaukee</td>\n",
       "      <td>WI</td>\n",
       "      <td>30003</td>\n",
       "      <td>First-Citizens Bank &amp; Trust Company</td>\n",
       "      <td>May 5, 2017</td>\n",
       "    </tr>\n",
       "    <tr>\n",
       "      <th>9</th>\n",
       "      <td>First NBC Bank</td>\n",
       "      <td>New Orleans</td>\n",
       "      <td>LA</td>\n",
       "      <td>58302</td>\n",
       "      <td>Whitney Bank</td>\n",
       "      <td>April 28, 2017</td>\n",
       "    </tr>\n",
       "  </tbody>\n",
       "</table>\n",
       "</div>"
      ],
      "text/plain": [
       "                                           Bank Name         City  ST   CERT  \\\n",
       "0                                 Ericson State Bank      Ericson  NE  18265   \n",
       "1                   City National Bank of New Jersey       Newark  NJ  21111   \n",
       "2                                      Resolute Bank       Maumee  OH  58317   \n",
       "3                              Louisa Community Bank       Louisa  KY  58112   \n",
       "4                               The Enloe State Bank       Cooper  TX  10716   \n",
       "5                Washington Federal Bank for Savings      Chicago  IL  30570   \n",
       "6    The Farmers and Merchants State Bank of Argonia      Argonia  KS  17719   \n",
       "7                                Fayette County Bank   Saint Elmo  IL   1802   \n",
       "8  Guaranty Bank, (d/b/a BestBank in Georgia & Mi...    Milwaukee  WI  30003   \n",
       "9                                     First NBC Bank  New Orleans  LA  58302   \n",
       "\n",
       "                 Acquiring Institution       Closing Date  \n",
       "0           Farmers and Merchants Bank  February 14, 2020  \n",
       "1                      Industrial Bank   November 1, 2019  \n",
       "2                   Buckeye State Bank   October 25, 2019  \n",
       "3    Kentucky Farmers Bank Corporation   October 25, 2019  \n",
       "4                   Legend Bank, N. A.       May 31, 2019  \n",
       "5                   Royal Savings Bank  December 15, 2017  \n",
       "6                          Conway Bank   October 13, 2017  \n",
       "7            United Fidelity Bank, fsb       May 26, 2017  \n",
       "8  First-Citizens Bank & Trust Company        May 5, 2017  \n",
       "9                         Whitney Bank     April 28, 2017  "
      ]
     },
     "execution_count": 25,
     "metadata": {},
     "output_type": "execute_result"
    }
   ],
   "source": [
    "bank[0].head(10)"
   ]
  },
  {
   "cell_type": "code",
   "execution_count": 26,
   "metadata": {},
   "outputs": [],
   "source": [
    "nba = pd.read_html(\"https://en.wikipedia.org/wiki/2018%E2%80%9319_NBA_season\")"
   ]
  },
  {
   "cell_type": "code",
   "execution_count": 27,
   "metadata": {},
   "outputs": [
    {
     "data": {
      "text/plain": [
       "40"
      ]
     },
     "execution_count": 27,
     "metadata": {},
     "output_type": "execute_result"
    }
   ],
   "source": [
    "len(nba)"
   ]
  },
  {
   "cell_type": "code",
   "execution_count": 28,
   "metadata": {},
   "outputs": [
    {
     "data": {
      "text/html": [
       "<div>\n",
       "<style scoped>\n",
       "    .dataframe tbody tr th:only-of-type {\n",
       "        vertical-align: middle;\n",
       "    }\n",
       "\n",
       "    .dataframe tbody tr th {\n",
       "        vertical-align: top;\n",
       "    }\n",
       "\n",
       "    .dataframe thead th {\n",
       "        text-align: right;\n",
       "    }\n",
       "</style>\n",
       "<table border=\"1\" class=\"dataframe\">\n",
       "  <thead>\n",
       "    <tr style=\"text-align: right;\">\n",
       "      <th></th>\n",
       "      <th>Atlantic Division</th>\n",
       "      <th>W</th>\n",
       "      <th>L</th>\n",
       "      <th>PCT</th>\n",
       "      <th>GB</th>\n",
       "      <th>Home</th>\n",
       "      <th>Road</th>\n",
       "      <th>Div</th>\n",
       "      <th>GP</th>\n",
       "    </tr>\n",
       "  </thead>\n",
       "  <tbody>\n",
       "    <tr>\n",
       "      <th>0</th>\n",
       "      <td>y – Toronto Raptors</td>\n",
       "      <td>58</td>\n",
       "      <td>24</td>\n",
       "      <td>0.707</td>\n",
       "      <td>0.0</td>\n",
       "      <td>32–9</td>\n",
       "      <td>26–15</td>\n",
       "      <td>12–4</td>\n",
       "      <td>82</td>\n",
       "    </tr>\n",
       "    <tr>\n",
       "      <th>1</th>\n",
       "      <td>x – Philadelphia 76ers</td>\n",
       "      <td>51</td>\n",
       "      <td>31</td>\n",
       "      <td>0.622</td>\n",
       "      <td>7.0</td>\n",
       "      <td>31–10</td>\n",
       "      <td>20–21</td>\n",
       "      <td>8–8</td>\n",
       "      <td>82</td>\n",
       "    </tr>\n",
       "    <tr>\n",
       "      <th>2</th>\n",
       "      <td>x – Boston Celtics</td>\n",
       "      <td>49</td>\n",
       "      <td>33</td>\n",
       "      <td>0.598</td>\n",
       "      <td>9.0</td>\n",
       "      <td>28–13</td>\n",
       "      <td>21–20</td>\n",
       "      <td>10–6</td>\n",
       "      <td>82</td>\n",
       "    </tr>\n",
       "    <tr>\n",
       "      <th>3</th>\n",
       "      <td>x – Brooklyn Nets</td>\n",
       "      <td>42</td>\n",
       "      <td>40</td>\n",
       "      <td>0.512</td>\n",
       "      <td>16.0</td>\n",
       "      <td>23–18</td>\n",
       "      <td>19–22</td>\n",
       "      <td>8–8</td>\n",
       "      <td>82</td>\n",
       "    </tr>\n",
       "    <tr>\n",
       "      <th>4</th>\n",
       "      <td>New York Knicks</td>\n",
       "      <td>17</td>\n",
       "      <td>65</td>\n",
       "      <td>0.207</td>\n",
       "      <td>41.0</td>\n",
       "      <td>9–32</td>\n",
       "      <td>8–33</td>\n",
       "      <td>2–14</td>\n",
       "      <td>82</td>\n",
       "    </tr>\n",
       "  </tbody>\n",
       "</table>\n",
       "</div>"
      ],
      "text/plain": [
       "        Atlantic Division   W   L    PCT    GB   Home   Road   Div  GP\n",
       "0     y – Toronto Raptors  58  24  0.707   0.0   32–9  26–15  12–4  82\n",
       "1  x – Philadelphia 76ers  51  31  0.622   7.0  31–10  20–21   8–8  82\n",
       "2      x – Boston Celtics  49  33  0.598   9.0  28–13  21–20  10–6  82\n",
       "3       x – Brooklyn Nets  42  40  0.512  16.0  23–18  19–22   8–8  82\n",
       "4         New York Knicks  17  65  0.207  41.0   9–32   8–33  2–14  82"
      ]
     },
     "execution_count": 28,
     "metadata": {},
     "output_type": "execute_result"
    }
   ],
   "source": [
    "nba[3]"
   ]
  },
  {
   "cell_type": "markdown",
   "metadata": {
    "slideshow": {
     "slide_type": "subslide"
    }
   },
   "source": [
    "# Importer depuis Excel\n",
    "\n",
    "On a deux approches pour Excel :\n",
    "- On peut utiliser `pd.read_excel()`\n",
    "- On peut utiliser la classe `pd.ExcelFile()`\n",
    "\n",
    "Dans ce cas, on utilise :\n",
    "```python\n",
    "xlsfile=pd.ExcelFile('fichier.xlsx')\n",
    "xlsfile.parse('Sheet1')\n",
    "```"
   ]
  },
  {
   "cell_type": "markdown",
   "metadata": {
    "slideshow": {
     "slide_type": "subslide"
    }
   },
   "source": [
    "**Exercice :** \n",
    "    \n",
    "Importez un fichier Excel avec les deux approches, on utilisera : `credit2.xlsx` et `ville.xls`"
   ]
  },
  {
   "cell_type": "code",
   "execution_count": 29,
   "metadata": {},
   "outputs": [],
   "source": [
    "pd.read_excel(\"./data/credit2.xlsx\",usecols=[\"Age\",\"Gender\"])\n",
    "pd.read_excel(\"./data/credit2.xlsx\",usecols=\"A:C\")\n",
    "credit2 = pd.read_excel(\"./data/credit2.xlsx\", index_col=\"Customer_ID\")"
   ]
  },
  {
   "cell_type": "code",
   "execution_count": 30,
   "metadata": {},
   "outputs": [
    {
     "data": {
      "text/html": [
       "<div>\n",
       "<style scoped>\n",
       "    .dataframe tbody tr th:only-of-type {\n",
       "        vertical-align: middle;\n",
       "    }\n",
       "\n",
       "    .dataframe tbody tr th {\n",
       "        vertical-align: top;\n",
       "    }\n",
       "\n",
       "    .dataframe thead th {\n",
       "        text-align: right;\n",
       "    }\n",
       "</style>\n",
       "<table border=\"1\" class=\"dataframe\">\n",
       "  <thead>\n",
       "    <tr style=\"text-align: right;\">\n",
       "      <th></th>\n",
       "      <th>Age</th>\n",
       "      <th>Gender</th>\n",
       "      <th>Marital_Status</th>\n",
       "      <th>Age_Youngest_Child</th>\n",
       "      <th>Number_of_Workers_in_Household</th>\n",
       "      <th>Percentage_White_Collar_Workers</th>\n",
       "      <th>Household_Debt_to_Equity_Ratio</th>\n",
       "      <th>Income</th>\n",
       "      <th>Homeowner</th>\n",
       "    </tr>\n",
       "    <tr>\n",
       "      <th>Customer_ID</th>\n",
       "      <th></th>\n",
       "      <th></th>\n",
       "      <th></th>\n",
       "      <th></th>\n",
       "      <th></th>\n",
       "      <th></th>\n",
       "      <th></th>\n",
       "      <th></th>\n",
       "      <th></th>\n",
       "    </tr>\n",
       "  </thead>\n",
       "  <tbody>\n",
       "    <tr>\n",
       "      <th>5409</th>\n",
       "      <td>40</td>\n",
       "      <td>F</td>\n",
       "      <td>S</td>\n",
       "      <td>11</td>\n",
       "      <td>6</td>\n",
       "      <td>37</td>\n",
       "      <td>56</td>\n",
       "      <td>37073</td>\n",
       "      <td>F</td>\n",
       "    </tr>\n",
       "    <tr>\n",
       "      <th>5477</th>\n",
       "      <td>47</td>\n",
       "      <td>M</td>\n",
       "      <td>M</td>\n",
       "      <td>13</td>\n",
       "      <td>13</td>\n",
       "      <td>30</td>\n",
       "      <td>56</td>\n",
       "      <td>50721</td>\n",
       "      <td>F</td>\n",
       "    </tr>\n",
       "    <tr>\n",
       "      <th>5507</th>\n",
       "      <td>35</td>\n",
       "      <td>F</td>\n",
       "      <td>U</td>\n",
       "      <td>1</td>\n",
       "      <td>9</td>\n",
       "      <td>33</td>\n",
       "      <td>57</td>\n",
       "      <td>43578</td>\n",
       "      <td>T</td>\n",
       "    </tr>\n",
       "    <tr>\n",
       "      <th>8</th>\n",
       "      <td>45</td>\n",
       "      <td>M</td>\n",
       "      <td>U</td>\n",
       "      <td>15</td>\n",
       "      <td>7</td>\n",
       "      <td>30</td>\n",
       "      <td>62</td>\n",
       "      <td>69553</td>\n",
       "      <td>F</td>\n",
       "    </tr>\n",
       "    <tr>\n",
       "      <th>158</th>\n",
       "      <td>13</td>\n",
       "      <td>F</td>\n",
       "      <td>S</td>\n",
       "      <td>0</td>\n",
       "      <td>7</td>\n",
       "      <td>27</td>\n",
       "      <td>64</td>\n",
       "      <td>37502</td>\n",
       "      <td>T</td>\n",
       "    </tr>\n",
       "  </tbody>\n",
       "</table>\n",
       "</div>"
      ],
      "text/plain": [
       "             Age Gender Marital_Status  Age_Youngest_Child  \\\n",
       "Customer_ID                                                  \n",
       "5409          40      F              S                  11   \n",
       "5477          47      M              M                  13   \n",
       "5507          35      F              U                   1   \n",
       "8             45      M              U                  15   \n",
       "158           13      F              S                   0   \n",
       "\n",
       "             Number_of_Workers_in_Household  Percentage_White_Collar_Workers  \\\n",
       "Customer_ID                                                                    \n",
       "5409                                      6                               37   \n",
       "5477                                     13                               30   \n",
       "5507                                      9                               33   \n",
       "8                                         7                               30   \n",
       "158                                       7                               27   \n",
       "\n",
       "             Household_Debt_to_Equity_Ratio  Income Homeowner  \n",
       "Customer_ID                                                    \n",
       "5409                                     56   37073         F  \n",
       "5477                                     56   50721         F  \n",
       "5507                                     57   43578         T  \n",
       "8                                        62   69553         F  \n",
       "158                                      64   37502         T  "
      ]
     },
     "execution_count": 30,
     "metadata": {},
     "output_type": "execute_result"
    }
   ],
   "source": [
    "credit2.head()"
   ]
  },
  {
   "cell_type": "code",
   "execution_count": 31,
   "metadata": {},
   "outputs": [],
   "source": [
    "# on crée un objet du type ExcelFile\n",
    "ville = pd.ExcelFile(\"./data/ville.xls\")"
   ]
  },
  {
   "cell_type": "code",
   "execution_count": 32,
   "metadata": {},
   "outputs": [
    {
     "data": {
      "text/plain": [
       "['ville', 'ville-ain']"
      ]
     },
     "execution_count": 32,
     "metadata": {},
     "output_type": "execute_result"
    }
   ],
   "source": [
    "ville.sheet_names"
   ]
  },
  {
   "cell_type": "code",
   "execution_count": 33,
   "metadata": {},
   "outputs": [],
   "source": [
    "# on extrait toutes les feuilles avec le mot ville dans le nom de la feuille dans une liste de dataframes\n",
    "list_feuilles_ville = []\n",
    "for nom in ville.sheet_names:\n",
    "    if \"ville\" in nom:\n",
    "         list_feuilles_ville.append(ville.parse(nom))"
   ]
  },
  {
   "cell_type": "markdown",
   "metadata": {},
   "source": [
    "On crée une fonction qui permet d'importer les feuilles excel ayant le terme nom_dans_feuille dans le nom de la feuille"
   ]
  },
  {
   "cell_type": "code",
   "execution_count": 34,
   "metadata": {},
   "outputs": [],
   "source": [
    "def import_excel_feuille(chemin_fichier, nom_dans_feuille = \"\"):\n",
    "    \"\"\" fonction qui importe les feuilles excel ayant le terme nom_dans_feuille dans le nom de la feuille\"\"\"\n",
    "    \n",
    "    excel = pd.ExcelFile(chemin_fichier)\n",
    "    list_feuilles = []\n",
    "    for nom_feuille in excel.sheet_names:\n",
    "        if nom_dans_feuille in nom_feuille:\n",
    "            list_feuilles.append(excel.parse(nom))\n",
    "    return list_feuilles"
   ]
  },
  {
   "cell_type": "code",
   "execution_count": 35,
   "metadata": {},
   "outputs": [],
   "source": [
    "list_ain = import_excel_feuille(\"./data/ville.xls\",nom_dans_feuille=\"ain\")"
   ]
  },
  {
   "cell_type": "code",
   "execution_count": 36,
   "metadata": {},
   "outputs": [
    {
     "data": {
      "text/html": [
       "<div>\n",
       "<style scoped>\n",
       "    .dataframe tbody tr th:only-of-type {\n",
       "        vertical-align: middle;\n",
       "    }\n",
       "\n",
       "    .dataframe tbody tr th {\n",
       "        vertical-align: top;\n",
       "    }\n",
       "\n",
       "    .dataframe thead th {\n",
       "        text-align: right;\n",
       "    }\n",
       "</style>\n",
       "<table border=\"1\" class=\"dataframe\">\n",
       "  <thead>\n",
       "    <tr style=\"text-align: right;\">\n",
       "      <th></th>\n",
       "      <th>NomVille</th>\n",
       "      <th>MAJ</th>\n",
       "      <th>Code Postal</th>\n",
       "      <th>Code INSEE</th>\n",
       "      <th>Code Région</th>\n",
       "      <th>Latitude</th>\n",
       "      <th>Longitude</th>\n",
       "      <th>Eloignement</th>\n",
       "    </tr>\n",
       "  </thead>\n",
       "  <tbody>\n",
       "    <tr>\n",
       "      <th>0</th>\n",
       "      <td>Saint-Denis-lès-Bourg</td>\n",
       "      <td>SAINT DENIS LES BOURG</td>\n",
       "      <td>1000</td>\n",
       "      <td>1344</td>\n",
       "      <td>82</td>\n",
       "      <td>46.200000</td>\n",
       "      <td>5.200000</td>\n",
       "      <td>1.00</td>\n",
       "    </tr>\n",
       "    <tr>\n",
       "      <th>1</th>\n",
       "      <td>Bourg-en-Bresse</td>\n",
       "      <td>BOURG EN BRESSE</td>\n",
       "      <td>1000</td>\n",
       "      <td>1053</td>\n",
       "      <td>82</td>\n",
       "      <td>46.200000</td>\n",
       "      <td>5.216667</td>\n",
       "      <td>1.00</td>\n",
       "    </tr>\n",
       "    <tr>\n",
       "      <th>2</th>\n",
       "      <td>Lurcy</td>\n",
       "      <td>LURCY</td>\n",
       "      <td>1090</td>\n",
       "      <td>1225</td>\n",
       "      <td>82</td>\n",
       "      <td>46.066667</td>\n",
       "      <td>4.766667</td>\n",
       "      <td>1.97</td>\n",
       "    </tr>\n",
       "    <tr>\n",
       "      <th>3</th>\n",
       "      <td>Montmerle-sur-Saône</td>\n",
       "      <td>MONTMERLE SUR SAONE</td>\n",
       "      <td>1090</td>\n",
       "      <td>1263</td>\n",
       "      <td>82</td>\n",
       "      <td>46.083333</td>\n",
       "      <td>4.766667</td>\n",
       "      <td>1.97</td>\n",
       "    </tr>\n",
       "    <tr>\n",
       "      <th>4</th>\n",
       "      <td>Genouilleux</td>\n",
       "      <td>GENOUILLEUX</td>\n",
       "      <td>1090</td>\n",
       "      <td>1169</td>\n",
       "      <td>82</td>\n",
       "      <td>46.116667</td>\n",
       "      <td>4.783333</td>\n",
       "      <td>1.91</td>\n",
       "    </tr>\n",
       "  </tbody>\n",
       "</table>\n",
       "</div>"
      ],
      "text/plain": [
       "                NomVille                 MAJ      Code Postal    Code INSEE   \\\n",
       "0  Saint-Denis-lès-Bourg  SAINT DENIS LES BOURG           1000          1344   \n",
       "1        Bourg-en-Bresse       BOURG EN BRESSE            1000          1053   \n",
       "2                  Lurcy               LURCY              1090          1225   \n",
       "3    Montmerle-sur-Saône   MONTMERLE SUR SAONE            1090          1263   \n",
       "4            Genouilleux         GENOUILLEUX              1090          1169   \n",
       "\n",
       "   Code Région   Latitude    Longitude    Eloignement   \n",
       "0           82   46.200000     5.200000           1.00  \n",
       "1           82   46.200000     5.216667           1.00  \n",
       "2           82   46.066667     4.766667           1.97  \n",
       "3           82   46.083333     4.766667           1.97  \n",
       "4           82   46.116667     4.783333           1.91  "
      ]
     },
     "execution_count": 36,
     "metadata": {},
     "output_type": "execute_result"
    }
   ],
   "source": [
    "list_ain[0].head()"
   ]
  },
  {
   "cell_type": "markdown",
   "metadata": {
    "slideshow": {
     "slide_type": "subslide"
    }
   },
   "source": [
    "# Importer des données SQL\n",
    "\n",
    "Pandas possède une fonction `read_sql()` qui permet d’importer directement des bases de données ou des queries dans des DataFrame\n",
    "\n",
    "Il faut tout de même un connecteur pour accéder aux bases de données\n",
    "\n",
    "Pour mettre en place ce connecteur, on utlise le package SQLAlchemy.\n",
    "\n",
    "Suivant le type de base de données, on utilisera différents codes mais la structure du code est toujours la même"
   ]
  },
  {
   "cell_type": "code",
   "execution_count": 37,
   "metadata": {
    "slideshow": {
     "slide_type": "subslide"
    }
   },
   "outputs": [],
   "source": [
    "# on importe l'outil de connexion\n",
    "from sqlalchemy import create_engine"
   ]
  },
  {
   "cell_type": "markdown",
   "metadata": {
    "slideshow": {
     "slide_type": "fragment"
    }
   },
   "source": [
    "On crée une connexion\n",
    "```python\n",
    "connexion=create_engine(\"sqlite:///(...).sqlite\")\n",
    "```"
   ]
  },
  {
   "cell_type": "markdown",
   "metadata": {
    "slideshow": {
     "slide_type": "fragment"
    }
   },
   "source": [
    "On utlise une des fonctions de Pandas pour charger les données\n",
    "```python\n",
    "requete=\"\"\"select ... from ...\"\"\"\n",
    "frame_sql=pd.read_sql_query(requete,connexion)\n",
    "```"
   ]
  },
  {
   "cell_type": "markdown",
   "metadata": {
    "slideshow": {
     "slide_type": "subslide"
    }
   },
   "source": [
    "**Exercices :**\n",
    "    \n",
    "Importez la base de données SQLite salaries et récupérez la table Salaries dans un DataFrame "
   ]
  },
  {
   "cell_type": "code",
   "execution_count": 38,
   "metadata": {},
   "outputs": [],
   "source": [
    "connexion=create_engine(\"sqlite:///./data/salaries.sqlite\")"
   ]
  },
  {
   "cell_type": "code",
   "execution_count": 39,
   "metadata": {},
   "outputs": [
    {
     "data": {
      "text/plain": [
       "['Salaries']"
      ]
     },
     "execution_count": 39,
     "metadata": {},
     "output_type": "execute_result"
    }
   ],
   "source": [
    "connexion.table_names()"
   ]
  },
  {
   "cell_type": "code",
   "execution_count": 40,
   "metadata": {},
   "outputs": [],
   "source": [
    "salaries = pd.read_sql_query(\"select * from salaries\", con=connexion)"
   ]
  },
  {
   "cell_type": "code",
   "execution_count": 41,
   "metadata": {},
   "outputs": [
    {
     "data": {
      "text/html": [
       "<div>\n",
       "<style scoped>\n",
       "    .dataframe tbody tr th:only-of-type {\n",
       "        vertical-align: middle;\n",
       "    }\n",
       "\n",
       "    .dataframe tbody tr th {\n",
       "        vertical-align: top;\n",
       "    }\n",
       "\n",
       "    .dataframe thead th {\n",
       "        text-align: right;\n",
       "    }\n",
       "</style>\n",
       "<table border=\"1\" class=\"dataframe\">\n",
       "  <thead>\n",
       "    <tr style=\"text-align: right;\">\n",
       "      <th></th>\n",
       "      <th>Id</th>\n",
       "      <th>EmployeeName</th>\n",
       "      <th>JobTitle</th>\n",
       "      <th>BasePay</th>\n",
       "      <th>OvertimePay</th>\n",
       "      <th>OtherPay</th>\n",
       "      <th>Benefits</th>\n",
       "      <th>TotalPay</th>\n",
       "      <th>TotalPayBenefits</th>\n",
       "      <th>Year</th>\n",
       "      <th>Notes</th>\n",
       "      <th>Agency</th>\n",
       "      <th>Status</th>\n",
       "    </tr>\n",
       "  </thead>\n",
       "  <tbody>\n",
       "    <tr>\n",
       "      <th>0</th>\n",
       "      <td>1</td>\n",
       "      <td>NATHANIEL FORD</td>\n",
       "      <td>GENERAL MANAGER-METROPOLITAN TRANSIT AUTHORITY</td>\n",
       "      <td>167411</td>\n",
       "      <td>0</td>\n",
       "      <td>400184</td>\n",
       "      <td></td>\n",
       "      <td>567595.43</td>\n",
       "      <td>567595.43</td>\n",
       "      <td>2011</td>\n",
       "      <td></td>\n",
       "      <td>San Francisco</td>\n",
       "      <td></td>\n",
       "    </tr>\n",
       "    <tr>\n",
       "      <th>1</th>\n",
       "      <td>2</td>\n",
       "      <td>GARY JIMENEZ</td>\n",
       "      <td>CAPTAIN III (POLICE DEPARTMENT)</td>\n",
       "      <td>155966</td>\n",
       "      <td>245132</td>\n",
       "      <td>137811</td>\n",
       "      <td></td>\n",
       "      <td>538909.28</td>\n",
       "      <td>538909.28</td>\n",
       "      <td>2011</td>\n",
       "      <td></td>\n",
       "      <td>San Francisco</td>\n",
       "      <td></td>\n",
       "    </tr>\n",
       "    <tr>\n",
       "      <th>2</th>\n",
       "      <td>3</td>\n",
       "      <td>ALBERT PARDINI</td>\n",
       "      <td>CAPTAIN III (POLICE DEPARTMENT)</td>\n",
       "      <td>212739</td>\n",
       "      <td>106088</td>\n",
       "      <td>16452.6</td>\n",
       "      <td></td>\n",
       "      <td>335279.91</td>\n",
       "      <td>335279.91</td>\n",
       "      <td>2011</td>\n",
       "      <td></td>\n",
       "      <td>San Francisco</td>\n",
       "      <td></td>\n",
       "    </tr>\n",
       "    <tr>\n",
       "      <th>3</th>\n",
       "      <td>4</td>\n",
       "      <td>CHRISTOPHER CHONG</td>\n",
       "      <td>WIRE ROPE CABLE MAINTENANCE MECHANIC</td>\n",
       "      <td>77916</td>\n",
       "      <td>56120.7</td>\n",
       "      <td>198307</td>\n",
       "      <td></td>\n",
       "      <td>332343.61</td>\n",
       "      <td>332343.61</td>\n",
       "      <td>2011</td>\n",
       "      <td></td>\n",
       "      <td>San Francisco</td>\n",
       "      <td></td>\n",
       "    </tr>\n",
       "    <tr>\n",
       "      <th>4</th>\n",
       "      <td>5</td>\n",
       "      <td>PATRICK GARDNER</td>\n",
       "      <td>DEPUTY CHIEF OF DEPARTMENT,(FIRE DEPARTMENT)</td>\n",
       "      <td>134402</td>\n",
       "      <td>9737</td>\n",
       "      <td>182235</td>\n",
       "      <td></td>\n",
       "      <td>326373.19</td>\n",
       "      <td>326373.19</td>\n",
       "      <td>2011</td>\n",
       "      <td></td>\n",
       "      <td>San Francisco</td>\n",
       "      <td></td>\n",
       "    </tr>\n",
       "  </tbody>\n",
       "</table>\n",
       "</div>"
      ],
      "text/plain": [
       "   Id       EmployeeName                                        JobTitle  \\\n",
       "0   1     NATHANIEL FORD  GENERAL MANAGER-METROPOLITAN TRANSIT AUTHORITY   \n",
       "1   2       GARY JIMENEZ                 CAPTAIN III (POLICE DEPARTMENT)   \n",
       "2   3     ALBERT PARDINI                 CAPTAIN III (POLICE DEPARTMENT)   \n",
       "3   4  CHRISTOPHER CHONG            WIRE ROPE CABLE MAINTENANCE MECHANIC   \n",
       "4   5    PATRICK GARDNER    DEPUTY CHIEF OF DEPARTMENT,(FIRE DEPARTMENT)   \n",
       "\n",
       "  BasePay OvertimePay OtherPay Benefits   TotalPay  TotalPayBenefits  Year  \\\n",
       "0  167411           0   400184           567595.43         567595.43  2011   \n",
       "1  155966      245132   137811           538909.28         538909.28  2011   \n",
       "2  212739      106088  16452.6           335279.91         335279.91  2011   \n",
       "3   77916     56120.7   198307           332343.61         332343.61  2011   \n",
       "4  134402        9737   182235           326373.19         326373.19  2011   \n",
       "\n",
       "  Notes         Agency Status  \n",
       "0        San Francisco         \n",
       "1        San Francisco         \n",
       "2        San Francisco         \n",
       "3        San Francisco         \n",
       "4        San Francisco         "
      ]
     },
     "execution_count": 41,
     "metadata": {},
     "output_type": "execute_result"
    }
   ],
   "source": [
    "salaries.head()"
   ]
  },
  {
   "cell_type": "markdown",
   "metadata": {},
   "source": [
    "# Importer depuis SPSS\n",
    "\n",
    "Pandas possède une fonction `pd.read_spss()`\n",
    "\n",
    "Attention ! Il faut la dernière version de Pandas et installer des packages supplémentaires !\n",
    "\n",
    "**Exercice :** Importer le fichier SPSS se trouvant dans ./data/"
   ]
  },
  {
   "cell_type": "code",
   "execution_count": 42,
   "metadata": {},
   "outputs": [],
   "source": [
    "#base = pd.read_spss(\"./data/Base.sav\")"
   ]
  },
  {
   "cell_type": "markdown",
   "metadata": {
    "slideshow": {
     "slide_type": "slide"
    }
   },
   "source": [
    "# Les tris avec Pandas \n",
    "\n",
    "Pour effectuer des tris, on utilise :\n",
    "- `.sort_index()` pour le tri des index\n",
    "- `.sort_values()` pour le tri des données\n",
    "- `.rank()` affiche le rang des observations\n",
    "\n",
    "Il peut y avoir plusieurs tris dans la même opération. Dans ce cas, on utilise des listes de colonnes :\n",
    "```python\n",
    "frame.sort_values([\"col_1\",\"col_2\"])\n",
    "```"
   ]
  },
  {
   "cell_type": "markdown",
   "metadata": {
    "slideshow": {
     "slide_type": "subslide"
    }
   },
   "source": [
    "**Exercice :** \n",
    "    \n",
    "Triez les données sur les salaires en se basant sur le TotalPay et le JobTitle"
   ]
  },
  {
   "cell_type": "code",
   "execution_count": 43,
   "metadata": {},
   "outputs": [
    {
     "data": {
      "text/html": [
       "<div>\n",
       "<style scoped>\n",
       "    .dataframe tbody tr th:only-of-type {\n",
       "        vertical-align: middle;\n",
       "    }\n",
       "\n",
       "    .dataframe tbody tr th {\n",
       "        vertical-align: top;\n",
       "    }\n",
       "\n",
       "    .dataframe thead th {\n",
       "        text-align: right;\n",
       "    }\n",
       "</style>\n",
       "<table border=\"1\" class=\"dataframe\">\n",
       "  <thead>\n",
       "    <tr style=\"text-align: right;\">\n",
       "      <th></th>\n",
       "      <th>Id</th>\n",
       "      <th>EmployeeName</th>\n",
       "      <th>JobTitle</th>\n",
       "      <th>BasePay</th>\n",
       "      <th>OvertimePay</th>\n",
       "      <th>OtherPay</th>\n",
       "      <th>Benefits</th>\n",
       "      <th>TotalPay</th>\n",
       "      <th>TotalPayBenefits</th>\n",
       "      <th>Year</th>\n",
       "      <th>Notes</th>\n",
       "      <th>Agency</th>\n",
       "      <th>Status</th>\n",
       "    </tr>\n",
       "  </thead>\n",
       "  <tbody>\n",
       "    <tr>\n",
       "      <th>20765</th>\n",
       "      <td>20766</td>\n",
       "      <td>NAPOLEON VIRAY</td>\n",
       "      <td>ACCOUNT CLERK</td>\n",
       "      <td>60838.2</td>\n",
       "      <td>0</td>\n",
       "      <td>0</td>\n",
       "      <td></td>\n",
       "      <td>60838.20</td>\n",
       "      <td>60838.20</td>\n",
       "      <td>2011</td>\n",
       "      <td></td>\n",
       "      <td>San Francisco</td>\n",
       "      <td></td>\n",
       "    </tr>\n",
       "    <tr>\n",
       "      <th>20867</th>\n",
       "      <td>20868</td>\n",
       "      <td>BERNADETTE RAMOS</td>\n",
       "      <td>ACCOUNT CLERK</td>\n",
       "      <td>49777.8</td>\n",
       "      <td>10753.1</td>\n",
       "      <td>0</td>\n",
       "      <td></td>\n",
       "      <td>60530.87</td>\n",
       "      <td>60530.87</td>\n",
       "      <td>2011</td>\n",
       "      <td></td>\n",
       "      <td>San Francisco</td>\n",
       "      <td></td>\n",
       "    </tr>\n",
       "    <tr>\n",
       "      <th>21638</th>\n",
       "      <td>21639</td>\n",
       "      <td>SUSAN CHANG</td>\n",
       "      <td>ACCOUNT CLERK</td>\n",
       "      <td>51306.3</td>\n",
       "      <td>5406.34</td>\n",
       "      <td>1814.58</td>\n",
       "      <td></td>\n",
       "      <td>58527.20</td>\n",
       "      <td>58527.20</td>\n",
       "      <td>2011</td>\n",
       "      <td></td>\n",
       "      <td>San Francisco</td>\n",
       "      <td></td>\n",
       "    </tr>\n",
       "    <tr>\n",
       "      <th>22972</th>\n",
       "      <td>22973</td>\n",
       "      <td>OLIVIA BOUDREAUX</td>\n",
       "      <td>ACCOUNT CLERK</td>\n",
       "      <td>49778.2</td>\n",
       "      <td>3811.68</td>\n",
       "      <td>1084.76</td>\n",
       "      <td></td>\n",
       "      <td>54674.59</td>\n",
       "      <td>54674.59</td>\n",
       "      <td>2011</td>\n",
       "      <td></td>\n",
       "      <td>San Francisco</td>\n",
       "      <td></td>\n",
       "    </tr>\n",
       "    <tr>\n",
       "      <th>24132</th>\n",
       "      <td>24133</td>\n",
       "      <td>LI-XIN CAI</td>\n",
       "      <td>ACCOUNT CLERK</td>\n",
       "      <td>49777.8</td>\n",
       "      <td>1390.45</td>\n",
       "      <td>624</td>\n",
       "      <td></td>\n",
       "      <td>51792.25</td>\n",
       "      <td>51792.25</td>\n",
       "      <td>2011</td>\n",
       "      <td></td>\n",
       "      <td>San Francisco</td>\n",
       "      <td></td>\n",
       "    </tr>\n",
       "    <tr>\n",
       "      <th>...</th>\n",
       "      <td>...</td>\n",
       "      <td>...</td>\n",
       "      <td>...</td>\n",
       "      <td>...</td>\n",
       "      <td>...</td>\n",
       "      <td>...</td>\n",
       "      <td>...</td>\n",
       "      <td>...</td>\n",
       "      <td>...</td>\n",
       "      <td>...</td>\n",
       "      <td>...</td>\n",
       "      <td>...</td>\n",
       "      <td>...</td>\n",
       "    </tr>\n",
       "    <tr>\n",
       "      <th>58842</th>\n",
       "      <td>58843</td>\n",
       "      <td>Mario Yedidia</td>\n",
       "      <td>Youth Comm Advisor</td>\n",
       "      <td>57544.7</td>\n",
       "      <td>0</td>\n",
       "      <td>0</td>\n",
       "      <td>28229.7</td>\n",
       "      <td>57544.73</td>\n",
       "      <td>85774.39</td>\n",
       "      <td>2012</td>\n",
       "      <td></td>\n",
       "      <td>San Francisco</td>\n",
       "      <td></td>\n",
       "    </tr>\n",
       "    <tr>\n",
       "      <th>98074</th>\n",
       "      <td>98075</td>\n",
       "      <td>Phimy  Truong</td>\n",
       "      <td>Youth Comm Advisor</td>\n",
       "      <td>52433.9</td>\n",
       "      <td>0</td>\n",
       "      <td>0</td>\n",
       "      <td>25297.5</td>\n",
       "      <td>52433.88</td>\n",
       "      <td>77731.38</td>\n",
       "      <td>2013</td>\n",
       "      <td></td>\n",
       "      <td>San Francisco</td>\n",
       "      <td></td>\n",
       "    </tr>\n",
       "    <tr>\n",
       "      <th>138458</th>\n",
       "      <td>138459</td>\n",
       "      <td>Phimy Truong</td>\n",
       "      <td>Youth Comm Advisor</td>\n",
       "      <td>32417.4</td>\n",
       "      <td>0</td>\n",
       "      <td>4048.49</td>\n",
       "      <td>15545.3</td>\n",
       "      <td>36465.91</td>\n",
       "      <td>52011.19</td>\n",
       "      <td>2014</td>\n",
       "      <td></td>\n",
       "      <td>San Francisco</td>\n",
       "      <td>PT</td>\n",
       "    </tr>\n",
       "    <tr>\n",
       "      <th>103333</th>\n",
       "      <td>103334</td>\n",
       "      <td>Mario R Yedidia</td>\n",
       "      <td>Youth Comm Advisor</td>\n",
       "      <td>13915.8</td>\n",
       "      <td>0</td>\n",
       "      <td>5296.91</td>\n",
       "      <td>5744.53</td>\n",
       "      <td>19212.71</td>\n",
       "      <td>24957.24</td>\n",
       "      <td>2013</td>\n",
       "      <td></td>\n",
       "      <td>San Francisco</td>\n",
       "      <td></td>\n",
       "    </tr>\n",
       "    <tr>\n",
       "      <th>18778</th>\n",
       "      <td>18779</td>\n",
       "      <td>MYRON SULAK</td>\n",
       "      <td>ZOO CURATOR</td>\n",
       "      <td>43148</td>\n",
       "      <td>0</td>\n",
       "      <td>23538.6</td>\n",
       "      <td></td>\n",
       "      <td>66686.56</td>\n",
       "      <td>66686.56</td>\n",
       "      <td>2011</td>\n",
       "      <td></td>\n",
       "      <td>San Francisco</td>\n",
       "      <td></td>\n",
       "    </tr>\n",
       "  </tbody>\n",
       "</table>\n",
       "<p>148654 rows × 13 columns</p>\n",
       "</div>"
      ],
      "text/plain": [
       "            Id      EmployeeName            JobTitle  BasePay OvertimePay  \\\n",
       "20765    20766    NAPOLEON VIRAY       ACCOUNT CLERK  60838.2           0   \n",
       "20867    20868  BERNADETTE RAMOS       ACCOUNT CLERK  49777.8     10753.1   \n",
       "21638    21639       SUSAN CHANG       ACCOUNT CLERK  51306.3     5406.34   \n",
       "22972    22973  OLIVIA BOUDREAUX       ACCOUNT CLERK  49778.2     3811.68   \n",
       "24132    24133        LI-XIN CAI       ACCOUNT CLERK  49777.8     1390.45   \n",
       "...        ...               ...                 ...      ...         ...   \n",
       "58842    58843     Mario Yedidia  Youth Comm Advisor  57544.7           0   \n",
       "98074    98075     Phimy  Truong  Youth Comm Advisor  52433.9           0   \n",
       "138458  138459      Phimy Truong  Youth Comm Advisor  32417.4           0   \n",
       "103333  103334   Mario R Yedidia  Youth Comm Advisor  13915.8           0   \n",
       "18778    18779       MYRON SULAK         ZOO CURATOR    43148           0   \n",
       "\n",
       "       OtherPay Benefits  TotalPay  TotalPayBenefits  Year Notes  \\\n",
       "20765         0           60838.20          60838.20  2011         \n",
       "20867         0           60530.87          60530.87  2011         \n",
       "21638   1814.58           58527.20          58527.20  2011         \n",
       "22972   1084.76           54674.59          54674.59  2011         \n",
       "24132       624           51792.25          51792.25  2011         \n",
       "...         ...      ...       ...               ...   ...   ...   \n",
       "58842         0  28229.7  57544.73          85774.39  2012         \n",
       "98074         0  25297.5  52433.88          77731.38  2013         \n",
       "138458  4048.49  15545.3  36465.91          52011.19  2014         \n",
       "103333  5296.91  5744.53  19212.71          24957.24  2013         \n",
       "18778   23538.6           66686.56          66686.56  2011         \n",
       "\n",
       "               Agency Status  \n",
       "20765   San Francisco         \n",
       "20867   San Francisco         \n",
       "21638   San Francisco         \n",
       "22972   San Francisco         \n",
       "24132   San Francisco         \n",
       "...               ...    ...  \n",
       "58842   San Francisco         \n",
       "98074   San Francisco         \n",
       "138458  San Francisco     PT  \n",
       "103333  San Francisco         \n",
       "18778   San Francisco         \n",
       "\n",
       "[148654 rows x 13 columns]"
      ]
     },
     "execution_count": 43,
     "metadata": {},
     "output_type": "execute_result"
    }
   ],
   "source": [
    "salaries.sort_values([\"JobTitle\",\"TotalPay\"],ascending=[True, False])"
   ]
  },
  {
   "cell_type": "markdown",
   "metadata": {
    "slideshow": {
     "slide_type": "slide"
    }
   },
   "source": [
    "# Les statistiques simples\n",
    "\n",
    "Les Dataframe possèdent de nombreuses méthodes pour calculer des statistiques simples :\n",
    "- `.sum(axis=0)` permet de faire une somme par colonne\n",
    "- `.sum(axis=1)` permet de faire une somme par ligne\n",
    "- `.min()` et `.max()` donnent le minimum par colonne\n",
    "- `.idxmin()` et `.idxmax()` donnent l’index du minimum et du maximum\n",
    "- `.describe()` affiche un tableau de statistiques descriptives par colonne\n",
    "- `.corr()` pour calculer la corrélation entre les colonnes"
   ]
  },
  {
   "cell_type": "markdown",
   "metadata": {
    "slideshow": {
     "slide_type": "subslide"
    }
   },
   "source": [
    "**Exercice :**\n",
    "    \n",
    "Obtenir les différentes statistiques descriptives pour les données AirBnB.\n",
    "\n",
    "On peut s'intéresser à la colonne `Price` (attention des prétraitements sont nécessaires)\n"
   ]
  },
  {
   "cell_type": "code",
   "execution_count": 44,
   "metadata": {},
   "outputs": [
    {
     "data": {
      "text/plain": [
       "dtype('O')"
      ]
     },
     "execution_count": 44,
     "metadata": {},
     "output_type": "execute_result"
    }
   ],
   "source": [
    "# cette colonne est sous forme d'object, il va falloir la modifier\n",
    "airbnb[\"price\"].dtype"
   ]
  },
  {
   "cell_type": "code",
   "execution_count": 45,
   "metadata": {},
   "outputs": [],
   "source": [
    "airbnb[\"price_num\"] = pd.to_numeric(airbnb[\"price\"].str.replace(\"$\",\"\")\n",
    "                                   .str.replace(\",\",\"\"))"
   ]
  },
  {
   "cell_type": "code",
   "execution_count": 46,
   "metadata": {},
   "outputs": [
    {
     "data": {
      "text/plain": [
       "dtype('float64')"
      ]
     },
     "execution_count": 46,
     "metadata": {},
     "output_type": "execute_result"
    }
   ],
   "source": [
    "airbnb[\"price_num\"].dtype"
   ]
  },
  {
   "cell_type": "code",
   "execution_count": 47,
   "metadata": {},
   "outputs": [
    {
     "data": {
      "text/plain": [
       "116.32598180157629"
      ]
     },
     "execution_count": 47,
     "metadata": {},
     "output_type": "execute_result"
    }
   ],
   "source": [
    "airbnb[\"price_num\"].mean()"
   ]
  },
  {
   "cell_type": "code",
   "execution_count": 48,
   "metadata": {},
   "outputs": [
    {
     "data": {
      "text/plain": [
       "count    59126.000000\n",
       "mean       116.325982\n",
       "std        167.669754\n",
       "min          0.000000\n",
       "25%         59.000000\n",
       "50%         80.000000\n",
       "75%        120.000000\n",
       "max       9379.000000\n",
       "Name: price_num, dtype: float64"
      ]
     },
     "execution_count": 48,
     "metadata": {},
     "output_type": "execute_result"
    }
   ],
   "source": [
    "airbnb[\"price_num\"].describe()"
   ]
  },
  {
   "cell_type": "code",
   "execution_count": 49,
   "metadata": {},
   "outputs": [
    {
     "data": {
      "text/plain": [
       "7225849"
      ]
     },
     "execution_count": 49,
     "metadata": {},
     "output_type": "execute_result"
    }
   ],
   "source": [
    "# on extrait l'id de la location avec le prix max\n",
    "airbnb[\"price_num\"].idxmax()"
   ]
  },
  {
   "cell_type": "code",
   "execution_count": 50,
   "metadata": {},
   "outputs": [
    {
     "data": {
      "text/plain": [
       "listing_url                                                  https://www.airbnb.com/rooms/7225849\n",
       "scrape_id                                                                          20190507030954\n",
       "last_scraped                                                                           2019-05-07\n",
       "name                                                               Artistic apartment, Montmartre\n",
       "summary                                         2 bedrooms on different floors in this Duplex....\n",
       "                                                                      ...                        \n",
       "calculated_host_listings_count_entire_homes                                                     1\n",
       "calculated_host_listings_count_private_rooms                                                    0\n",
       "calculated_host_listings_count_shared_rooms                                                     0\n",
       "reviews_per_month                                                                            0.51\n",
       "price_num                                                                                    9379\n",
       "Name: 7225849, Length: 106, dtype: object"
      ]
     },
     "execution_count": 50,
     "metadata": {},
     "output_type": "execute_result"
    }
   ],
   "source": [
    "# on affiche cette location\n",
    "airbnb.loc[airbnb[\"price_num\"].idxmax()]"
   ]
  },
  {
   "cell_type": "markdown",
   "metadata": {},
   "source": [
    "Calcul de la moyenne pondérée sur une enquête"
   ]
  },
  {
   "cell_type": "code",
   "execution_count": 51,
   "metadata": {},
   "outputs": [],
   "source": [
    "base = pd.read_csv(\"./data/Base.csv\")"
   ]
  },
  {
   "cell_type": "code",
   "execution_count": 52,
   "metadata": {},
   "outputs": [
    {
     "data": {
      "text/plain": [
       "48.402976312335646"
      ]
     },
     "execution_count": 52,
     "metadata": {},
     "output_type": "execute_result"
    }
   ],
   "source": [
    "#moyenne pondérée\n",
    "np.average(base[\"resp_age\"],weights=base[\"Weight\"])"
   ]
  },
  {
   "cell_type": "code",
   "execution_count": 53,
   "metadata": {},
   "outputs": [
    {
     "data": {
      "text/plain": [
       "48.588"
      ]
     },
     "execution_count": 53,
     "metadata": {},
     "output_type": "execute_result"
    }
   ],
   "source": [
    "# moyenne\n",
    "base[\"resp_age\"].mean()"
   ]
  },
  {
   "cell_type": "markdown",
   "metadata": {},
   "source": [
    "Utilisation de statsmodels"
   ]
  },
  {
   "cell_type": "code",
   "execution_count": 54,
   "metadata": {},
   "outputs": [
    {
     "name": "stderr",
     "output_type": "stream",
     "text": [
      "C:\\Users\\s4d-asus-14\\Anaconda3\\lib\\site-packages\\statsmodels\\tools\\_testing.py:19: FutureWarning: pandas.util.testing is deprecated. Use the functions in the public API at pandas.testing instead.\n",
      "  import pandas.util.testing as tm\n"
     ]
    }
   ],
   "source": [
    "from statsmodels.stats.weightstats import DescrStatsW"
   ]
  },
  {
   "cell_type": "code",
   "execution_count": 55,
   "metadata": {},
   "outputs": [],
   "source": [
    "# on sélectionne les colonnes numériques\n",
    "base_num = base.select_dtypes(np.number)\n",
    "# on calcule les stats desc pondérées\n",
    "mes_stat = DescrStatsW(base_num, weights=base[\"Weight\"])"
   ]
  },
  {
   "cell_type": "code",
   "execution_count": 56,
   "metadata": {},
   "outputs": [
    {
     "data": {
      "text/plain": [
       "Index(['Unnamed: 0', 'resp_age', 'Weight'], dtype='object')"
      ]
     },
     "execution_count": 56,
     "metadata": {},
     "output_type": "execute_result"
    }
   ],
   "source": [
    "base_num.columns"
   ]
  },
  {
   "cell_type": "code",
   "execution_count": 57,
   "metadata": {},
   "outputs": [
    {
     "data": {
      "text/plain": [
       "array([8.34826333e+04, 2.93471038e+02, 7.20773849e-02])"
      ]
     },
     "execution_count": 57,
     "metadata": {},
     "output_type": "execute_result"
    }
   ],
   "source": [
    "mes_stat.var"
   ]
  },
  {
   "cell_type": "code",
   "execution_count": 58,
   "metadata": {},
   "outputs": [],
   "source": [
    "mes_stat_age = DescrStatsW(base[\"resp_age\"], weights=base[\"Weight\"])"
   ]
  },
  {
   "cell_type": "code",
   "execution_count": 59,
   "metadata": {},
   "outputs": [
    {
     "data": {
      "text/plain": [
       "48.40297631233564"
      ]
     },
     "execution_count": 59,
     "metadata": {},
     "output_type": "execute_result"
    }
   ],
   "source": [
    "mes_stat_age.mean"
   ]
  },
  {
   "cell_type": "markdown",
   "metadata": {},
   "source": [
    "On va construire une fonction permettant de calculer les stat desc pondérées d'une colonne"
   ]
  },
  {
   "cell_type": "code",
   "execution_count": 61,
   "metadata": {},
   "outputs": [],
   "source": [
    "def stat_desc_w_ipsos(data, columns, weights):\n",
    "    \"\"\" Cette fonction calcule et affiche les moyennes et écarts-types pondérés\n",
    "    \n",
    "    Input : - data : données sous forme de DataFrame\n",
    "            - columns : nom des colonnes quanti à analyser\n",
    "            - weights : nom de la colonne des poids\n",
    "    \"\"\"\n",
    "    \n",
    "    from statsmodels.stats.weightstats import DescrStatsW\n",
    "    mes_stats = DescrStatsW(data[columns],weights=data[weights])\n",
    "    print(\"Moyenne pondérée :\", mes_stats.mean)\n",
    "    print(\"Ecart-type pondéré :\", mes_stats.std)\n",
    "    "
   ]
  },
  {
   "cell_type": "code",
   "execution_count": 62,
   "metadata": {},
   "outputs": [
    {
     "name": "stdout",
     "output_type": "stream",
     "text": [
      "Moyenne pondérée : 48.40297631233564\n",
      "Ecart-type pondéré : 17.1309963999935\n"
     ]
    }
   ],
   "source": [
    "stat_desc_w_ipsos(base,\"resp_age\",\"Weight\")"
   ]
  },
  {
   "cell_type": "markdown",
   "metadata": {
    "slideshow": {
     "slide_type": "slide"
    }
   },
   "source": [
    "# Le traitement des données manquantes\n",
    "\n",
    "- Les données manquantes sont identifiées par `NaN`\n",
    "\n",
    "\n",
    "- `.dropna()` permet de retirer les données manquantes dans un objet Series et l’ensemble d’une ligne dans le cas d’un DataFrame\n",
    "- Pour éliminer par colonne, on utilise `.dropna(axis=1)`\n",
    "- Remplacer toutes les données manquantes `.fillna(valeur)`\n"
   ]
  },
  {
   "cell_type": "markdown",
   "metadata": {
    "slideshow": {
     "slide_type": "slide"
    }
   },
   "source": [
    "# Les jointures avec Pandas\n",
    "\n",
    "On veut joindre des jeux de données en utilisant des clés (variables communes)\n",
    "\n",
    "- `pd.merge()` permet de joindre deux DataFrame, on utilise comme options `on='key'`\n",
    "\n",
    "- On peut utiliser comme option `how=`, on peut avoir :\n",
    "    - `left` dans ce cas, on garde le jeu de données à gauche et pour les données de droite des valeurs manquantes sont ajoutées.\n",
    "    - `outer`, on garde toutes les valeurs des deux jeux de données\n",
    "    - ...\n",
    "\n",
    "- On peut avoir plusieurs clés et faire une jointure sur les deux clés `on=['key1','key2']`\n",
    "\n",
    "Pour plus de détails : <http://pandas.pydata.org/pandas-docs/dev/generated/pandas.DataFrame.merge.html>\n"
   ]
  },
  {
   "cell_type": "markdown",
   "metadata": {
    "slideshow": {
     "slide_type": "subslide"
    }
   },
   "source": [
    "**Exercice :**\n",
    "    \n",
    "Joindre deux dataframes (credit1 et credit2).\n"
   ]
  },
  {
   "cell_type": "code",
   "execution_count": 63,
   "metadata": {},
   "outputs": [],
   "source": [
    "credit1 = pd.read_csv(\"./data/credit1.txt\",sep=\"\\t\")"
   ]
  },
  {
   "cell_type": "code",
   "execution_count": 64,
   "metadata": {},
   "outputs": [],
   "source": [
    "credit_global = pd.merge(credit1,credit2,how=\"inner\",on=\"Customer_ID\")"
   ]
  },
  {
   "cell_type": "code",
   "execution_count": 65,
   "metadata": {},
   "outputs": [
    {
     "data": {
      "text/html": [
       "<div>\n",
       "<style scoped>\n",
       "    .dataframe tbody tr th:only-of-type {\n",
       "        vertical-align: middle;\n",
       "    }\n",
       "\n",
       "    .dataframe tbody tr th {\n",
       "        vertical-align: top;\n",
       "    }\n",
       "\n",
       "    .dataframe thead th {\n",
       "        text-align: right;\n",
       "    }\n",
       "</style>\n",
       "<table border=\"1\" class=\"dataframe\">\n",
       "  <thead>\n",
       "    <tr style=\"text-align: right;\">\n",
       "      <th></th>\n",
       "      <th>Months_as_a_Customer</th>\n",
       "      <th>Number_of_Products</th>\n",
       "      <th>RFM_Score</th>\n",
       "      <th>Average_Balance_Feed_Index</th>\n",
       "      <th>Number_of_Transactions</th>\n",
       "      <th>Personal_Debt_to_Equity_Ratio</th>\n",
       "      <th>Months_Current_Account</th>\n",
       "      <th>Number_of_Loan_Accounts</th>\n",
       "      <th>Customer_ID</th>\n",
       "      <th>Has_Bad_Payment_Record</th>\n",
       "      <th>...</th>\n",
       "      <th>Interested_in_Credit_Card</th>\n",
       "      <th>Age</th>\n",
       "      <th>Gender</th>\n",
       "      <th>Marital_Status</th>\n",
       "      <th>Age_Youngest_Child</th>\n",
       "      <th>Number_of_Workers_in_Household</th>\n",
       "      <th>Percentage_White_Collar_Workers</th>\n",
       "      <th>Household_Debt_to_Equity_Ratio</th>\n",
       "      <th>Income</th>\n",
       "      <th>Homeowner</th>\n",
       "    </tr>\n",
       "  </thead>\n",
       "  <tbody>\n",
       "    <tr>\n",
       "      <th>0</th>\n",
       "      <td>24</td>\n",
       "      <td>3</td>\n",
       "      <td>10</td>\n",
       "      <td>229</td>\n",
       "      <td>2</td>\n",
       "      <td>40</td>\n",
       "      <td>13</td>\n",
       "      <td>0</td>\n",
       "      <td>5409</td>\n",
       "      <td>0</td>\n",
       "      <td>...</td>\n",
       "      <td>F</td>\n",
       "      <td>40</td>\n",
       "      <td>F</td>\n",
       "      <td>S</td>\n",
       "      <td>11</td>\n",
       "      <td>6</td>\n",
       "      <td>37</td>\n",
       "      <td>56</td>\n",
       "      <td>37073</td>\n",
       "      <td>F</td>\n",
       "    </tr>\n",
       "    <tr>\n",
       "      <th>1</th>\n",
       "      <td>12</td>\n",
       "      <td>2</td>\n",
       "      <td>12</td>\n",
       "      <td>8</td>\n",
       "      <td>1</td>\n",
       "      <td>47</td>\n",
       "      <td>5</td>\n",
       "      <td>2</td>\n",
       "      <td>5477</td>\n",
       "      <td>0</td>\n",
       "      <td>...</td>\n",
       "      <td>F</td>\n",
       "      <td>47</td>\n",
       "      <td>M</td>\n",
       "      <td>M</td>\n",
       "      <td>13</td>\n",
       "      <td>13</td>\n",
       "      <td>30</td>\n",
       "      <td>56</td>\n",
       "      <td>50721</td>\n",
       "      <td>F</td>\n",
       "    </tr>\n",
       "    <tr>\n",
       "      <th>2</th>\n",
       "      <td>36</td>\n",
       "      <td>0</td>\n",
       "      <td>0</td>\n",
       "      <td>0</td>\n",
       "      <td>0</td>\n",
       "      <td>35</td>\n",
       "      <td>31</td>\n",
       "      <td>0</td>\n",
       "      <td>5507</td>\n",
       "      <td>0</td>\n",
       "      <td>...</td>\n",
       "      <td>F</td>\n",
       "      <td>35</td>\n",
       "      <td>F</td>\n",
       "      <td>U</td>\n",
       "      <td>1</td>\n",
       "      <td>9</td>\n",
       "      <td>33</td>\n",
       "      <td>57</td>\n",
       "      <td>43578</td>\n",
       "      <td>T</td>\n",
       "    </tr>\n",
       "    <tr>\n",
       "      <th>3</th>\n",
       "      <td>0</td>\n",
       "      <td>0</td>\n",
       "      <td>0</td>\n",
       "      <td>0</td>\n",
       "      <td>0</td>\n",
       "      <td>45</td>\n",
       "      <td>-3</td>\n",
       "      <td>0</td>\n",
       "      <td>8</td>\n",
       "      <td>0</td>\n",
       "      <td>...</td>\n",
       "      <td>F</td>\n",
       "      <td>45</td>\n",
       "      <td>M</td>\n",
       "      <td>U</td>\n",
       "      <td>15</td>\n",
       "      <td>7</td>\n",
       "      <td>30</td>\n",
       "      <td>62</td>\n",
       "      <td>69553</td>\n",
       "      <td>F</td>\n",
       "    </tr>\n",
       "    <tr>\n",
       "      <th>4</th>\n",
       "      <td>48</td>\n",
       "      <td>0</td>\n",
       "      <td>0</td>\n",
       "      <td>0</td>\n",
       "      <td>0</td>\n",
       "      <td>13</td>\n",
       "      <td>39</td>\n",
       "      <td>0</td>\n",
       "      <td>158</td>\n",
       "      <td>0</td>\n",
       "      <td>...</td>\n",
       "      <td>F</td>\n",
       "      <td>13</td>\n",
       "      <td>F</td>\n",
       "      <td>S</td>\n",
       "      <td>0</td>\n",
       "      <td>7</td>\n",
       "      <td>27</td>\n",
       "      <td>64</td>\n",
       "      <td>37502</td>\n",
       "      <td>T</td>\n",
       "    </tr>\n",
       "  </tbody>\n",
       "</table>\n",
       "<p>5 rows × 31 columns</p>\n",
       "</div>"
      ],
      "text/plain": [
       "   Months_as_a_Customer  Number_of_Products  RFM_Score  \\\n",
       "0                    24                   3         10   \n",
       "1                    12                   2         12   \n",
       "2                    36                   0          0   \n",
       "3                     0                   0          0   \n",
       "4                    48                   0          0   \n",
       "\n",
       "   Average_Balance_Feed_Index  Number_of_Transactions  \\\n",
       "0                         229                       2   \n",
       "1                           8                       1   \n",
       "2                           0                       0   \n",
       "3                           0                       0   \n",
       "4                           0                       0   \n",
       "\n",
       "   Personal_Debt_to_Equity_Ratio  Months_Current_Account  \\\n",
       "0                             40                      13   \n",
       "1                             47                       5   \n",
       "2                             35                      31   \n",
       "3                             45                      -3   \n",
       "4                             13                      39   \n",
       "\n",
       "   Number_of_Loan_Accounts  Customer_ID  Has_Bad_Payment_Record  ...  \\\n",
       "0                        0         5409                       0  ...   \n",
       "1                        2         5477                       0  ...   \n",
       "2                        0         5507                       0  ...   \n",
       "3                        0            8                       0  ...   \n",
       "4                        0          158                       0  ...   \n",
       "\n",
       "   Interested_in_Credit_Card  Age  Gender Marital_Status Age_Youngest_Child  \\\n",
       "0                          F   40       F              S                 11   \n",
       "1                          F   47       M              M                 13   \n",
       "2                          F   35       F              U                  1   \n",
       "3                          F   45       M              U                 15   \n",
       "4                          F   13       F              S                  0   \n",
       "\n",
       "  Number_of_Workers_in_Household Percentage_White_Collar_Workers  \\\n",
       "0                              6                              37   \n",
       "1                             13                              30   \n",
       "2                              9                              33   \n",
       "3                              7                              30   \n",
       "4                              7                              27   \n",
       "\n",
       "   Household_Debt_to_Equity_Ratio Income Homeowner  \n",
       "0                              56  37073         F  \n",
       "1                              56  50721         F  \n",
       "2                              57  43578         T  \n",
       "3                              62  69553         F  \n",
       "4                              64  37502         T  \n",
       "\n",
       "[5 rows x 31 columns]"
      ]
     },
     "execution_count": 65,
     "metadata": {},
     "output_type": "execute_result"
    }
   ],
   "source": [
    "credit_global.head()"
   ]
  },
  {
   "cell_type": "markdown",
   "metadata": {},
   "source": [
    "On fait une jointure entre les données des locations Airbnb et les données de calendrier de remplissage des appartements"
   ]
  },
  {
   "cell_type": "code",
   "execution_count": 66,
   "metadata": {},
   "outputs": [],
   "source": [
    "airbnb_reduit = airbnb[[\"price_num\",\"latitude\",\"longitude\"]]"
   ]
  },
  {
   "cell_type": "code",
   "execution_count": 67,
   "metadata": {},
   "outputs": [],
   "source": [
    "calendar = pd.read_csv(\"https://www.stat4decision.com/calendar.csv.gz\")"
   ]
  },
  {
   "cell_type": "code",
   "execution_count": 68,
   "metadata": {},
   "outputs": [
    {
     "data": {
      "text/html": [
       "<div>\n",
       "<style scoped>\n",
       "    .dataframe tbody tr th:only-of-type {\n",
       "        vertical-align: middle;\n",
       "    }\n",
       "\n",
       "    .dataframe tbody tr th {\n",
       "        vertical-align: top;\n",
       "    }\n",
       "\n",
       "    .dataframe thead th {\n",
       "        text-align: right;\n",
       "    }\n",
       "</style>\n",
       "<table border=\"1\" class=\"dataframe\">\n",
       "  <thead>\n",
       "    <tr style=\"text-align: right;\">\n",
       "      <th></th>\n",
       "      <th>listing_id</th>\n",
       "      <th>date</th>\n",
       "      <th>available</th>\n",
       "      <th>price</th>\n",
       "    </tr>\n",
       "  </thead>\n",
       "  <tbody>\n",
       "    <tr>\n",
       "      <th>0</th>\n",
       "      <td>2679020</td>\n",
       "      <td>2019-03-09</td>\n",
       "      <td>f</td>\n",
       "      <td>NaN</td>\n",
       "    </tr>\n",
       "    <tr>\n",
       "      <th>1</th>\n",
       "      <td>2679020</td>\n",
       "      <td>2019-03-08</td>\n",
       "      <td>f</td>\n",
       "      <td>NaN</td>\n",
       "    </tr>\n",
       "    <tr>\n",
       "      <th>2</th>\n",
       "      <td>2679020</td>\n",
       "      <td>2019-03-07</td>\n",
       "      <td>f</td>\n",
       "      <td>NaN</td>\n",
       "    </tr>\n",
       "    <tr>\n",
       "      <th>3</th>\n",
       "      <td>2679020</td>\n",
       "      <td>2019-03-06</td>\n",
       "      <td>f</td>\n",
       "      <td>NaN</td>\n",
       "    </tr>\n",
       "    <tr>\n",
       "      <th>4</th>\n",
       "      <td>2679020</td>\n",
       "      <td>2019-03-05</td>\n",
       "      <td>f</td>\n",
       "      <td>NaN</td>\n",
       "    </tr>\n",
       "  </tbody>\n",
       "</table>\n",
       "</div>"
      ],
      "text/plain": [
       "   listing_id        date available price\n",
       "0     2679020  2019-03-09         f   NaN\n",
       "1     2679020  2019-03-08         f   NaN\n",
       "2     2679020  2019-03-07         f   NaN\n",
       "3     2679020  2019-03-06         f   NaN\n",
       "4     2679020  2019-03-05         f   NaN"
      ]
     },
     "execution_count": 68,
     "metadata": {},
     "output_type": "execute_result"
    }
   ],
   "source": [
    "calendar.head()"
   ]
  },
  {
   "cell_type": "code",
   "execution_count": 69,
   "metadata": {},
   "outputs": [],
   "source": [
    "new_airbnb = pd.merge(calendar,airbnb[[\"price_num\",\"latitude\",\"longitude\"]], \n",
    "                      left_on = \"listing_id\",right_index=True)"
   ]
  },
  {
   "cell_type": "code",
   "execution_count": 70,
   "metadata": {},
   "outputs": [
    {
     "data": {
      "text/plain": [
       "(13286730, 7)"
      ]
     },
     "execution_count": 70,
     "metadata": {},
     "output_type": "execute_result"
    }
   ],
   "source": [
    "new_airbnb.shape"
   ]
  },
  {
   "cell_type": "markdown",
   "metadata": {},
   "source": [
    "On veut extraire des statistiques de base\n",
    "\n",
    "Par exemple, la moyenne des prix pour les locations du 8 juillet 2018 :"
   ]
  },
  {
   "cell_type": "code",
   "execution_count": 71,
   "metadata": {},
   "outputs": [
    {
     "data": {
      "text/plain": [
       "105.64795890335697"
      ]
     },
     "execution_count": 71,
     "metadata": {},
     "output_type": "execute_result"
    }
   ],
   "source": [
    "new_airbnb[new_airbnb[\"date\"]=='2018-07-08'][\"price_num\"].mean()"
   ]
  },
  {
   "cell_type": "markdown",
   "metadata": {},
   "source": [
    "On extrait le nombre de nuitées disponibles / occuppées :"
   ]
  },
  {
   "cell_type": "code",
   "execution_count": 72,
   "metadata": {},
   "outputs": [
    {
     "data": {
      "text/plain": [
       "f    0.78342\n",
       "t    0.21658\n",
       "Name: available, dtype: float64"
      ]
     },
     "execution_count": 72,
     "metadata": {},
     "output_type": "execute_result"
    }
   ],
   "source": [
    "new_airbnb[\"available\"].value_counts(normalize = True)"
   ]
  },
  {
   "cell_type": "markdown",
   "metadata": {},
   "source": [
    "Si on regarde le part de locations occuppées le 8 janvier 2019, on a :"
   ]
  },
  {
   "cell_type": "code",
   "execution_count": 73,
   "metadata": {},
   "outputs": [
    {
     "data": {
      "text/plain": [
       "f    0.749464\n",
       "t    0.250536\n",
       "Name: available, dtype: float64"
      ]
     },
     "execution_count": 73,
     "metadata": {},
     "output_type": "execute_result"
    }
   ],
   "source": [
    "new_airbnb[new_airbnb[\"date\"]=='2019-01-08'][\"available\"].value_counts(normalize = True)"
   ]
  },
  {
   "cell_type": "markdown",
   "metadata": {},
   "source": [
    "La moyenne des prix des appartements disponibles le 8 juillet 2018 :"
   ]
  },
  {
   "cell_type": "code",
   "execution_count": 74,
   "metadata": {},
   "outputs": [
    {
     "data": {
      "text/plain": [
       "143.92299781462913"
      ]
     },
     "execution_count": 74,
     "metadata": {},
     "output_type": "execute_result"
    }
   ],
   "source": [
    "new_airbnb[(new_airbnb[\"date\"]=='2018-07-08')&(new_airbnb[\"available\"]=='t')][\"price_num\"].mean()"
   ]
  },
  {
   "cell_type": "markdown",
   "metadata": {},
   "source": [
    "On transforme la colonne date qui est sous forme de chaîne de caractère en DateTime, ceci permet de faire de nouvelles opérations : "
   ]
  },
  {
   "cell_type": "code",
   "execution_count": 75,
   "metadata": {},
   "outputs": [],
   "source": [
    "new_airbnb[\"date\"]= pd.to_datetime(new_airbnb[\"date\"])"
   ]
  },
  {
   "cell_type": "code",
   "execution_count": 76,
   "metadata": {},
   "outputs": [],
   "source": [
    "# on construit une colonne avec le jour de la semaine \n",
    "new_airbnb[\"jour_semaine\"]=new_airbnb[\"date\"].dt.day_name()"
   ]
  },
  {
   "cell_type": "markdown",
   "metadata": {},
   "source": [
    "La moyenne des pris des Samedi soirs disponibles est donc :"
   ]
  },
  {
   "cell_type": "code",
   "execution_count": 77,
   "metadata": {},
   "outputs": [
    {
     "data": {
      "text/plain": [
       "148.03015520630126"
      ]
     },
     "execution_count": 77,
     "metadata": {},
     "output_type": "execute_result"
    }
   ],
   "source": [
    "new_airbnb[(new_airbnb[\"jour_semaine\"]=='Saturday')&(new_airbnb[\"available\"]=='t')][\"price_num\"].mean()"
   ]
  },
  {
   "cell_type": "markdown",
   "metadata": {
    "slideshow": {
     "slide_type": "slide"
    }
   },
   "source": [
    "# Gestion des duplications\n",
    "\n",
    "- On utilise `.duplicated()` ou `.drop_duplicates()` dans le cas où on désire effacer les lignes se répétant\n",
    "\n",
    "\n",
    "- On peut se concentrer sur une seule variables en entrant directement le nom de la variable. Dans ce cas, c’est la première apparition qui compte. Si on veut prendre la dernière apparition, on utilise l’option `keep=\"last\"`. On pourra avoir :\n",
    "```python\n",
    "frame1.drop_duplicates([\"col_0\",\"col_1\"],keep=\"last\")\n",
    "```"
   ]
  },
  {
   "cell_type": "markdown",
   "metadata": {
    "slideshow": {
     "slide_type": "slide"
    }
   },
   "source": [
    "# Discrétisation\n",
    "\n",
    "Pour discrétiser, on utilise la fonction `pd.cut()`, on va définir une liste de points pour discrétiser et on entre cette liste comme second paramètre de la fonction.\n",
    "\n",
    "Une fois discrétisé, on peut afficher les modalités obtenues en utilisant `.categories`\n",
    "\n",
    "On peut aussi compter les occurrence en utilisant `pd.value_counts()`\n",
    "\n",
    "Il est aussi possible d’entrer le nombre de segments comme second paramètre\n",
    "\n",
    "On utilisera aussi `qcut()`"
   ]
  },
  {
   "cell_type": "markdown",
   "metadata": {
    "slideshow": {
     "slide_type": "subslide"
    }
   },
   "source": [
    "**Exercice :**\n",
    "    \n",
    "Créez une variable dans le dataframe AirBnB pour obtenir des niveaux de prix.\n"
   ]
  },
  {
   "cell_type": "code",
   "execution_count": 78,
   "metadata": {},
   "outputs": [],
   "source": [
    "airbnb[\"price_disc1\"]=pd.cut(airbnb[\"price_num\"],bins=5)\n",
    "airbnb[\"price_disc2\"]=pd.qcut(airbnb[\"price_num\"],5)"
   ]
  },
  {
   "cell_type": "code",
   "execution_count": 79,
   "metadata": {},
   "outputs": [
    {
     "data": {
      "text/plain": [
       "(-9.379, 1875.8]    59078\n",
       "(1875.8, 3751.6]       36\n",
       "(7503.2, 9379.0]        6\n",
       "(3751.6, 5627.4]        6\n",
       "(5627.4, 7503.2]        0\n",
       "Name: price_disc1, dtype: int64"
      ]
     },
     "execution_count": 79,
     "metadata": {},
     "output_type": "execute_result"
    }
   ],
   "source": [
    "airbnb[\"price_disc1\"].value_counts()"
   ]
  },
  {
   "cell_type": "code",
   "execution_count": 80,
   "metadata": {},
   "outputs": [
    {
     "data": {
      "text/plain": [
       "(94.0, 140.0]      12338\n",
       "(53.0, 70.0]       12226\n",
       "(-0.001, 53.0]     11933\n",
       "(70.0, 94.0]       11408\n",
       "(140.0, 9379.0]    11221\n",
       "Name: price_disc2, dtype: int64"
      ]
     },
     "execution_count": 80,
     "metadata": {},
     "output_type": "execute_result"
    }
   ],
   "source": [
    "airbnb[\"price_disc2\"].value_counts()"
   ]
  },
  {
   "cell_type": "markdown",
   "metadata": {
    "slideshow": {
     "slide_type": "slide"
    }
   },
   "source": [
    "# Les tableaux croisés avec Pandas\n",
    "\n",
    "Les DataFrame possèdent des méthodes pour générer des tableaux croisés, notamment :\n",
    "```python\n",
    "frame1.pivot_table()\n",
    "```\n",
    "Cette méthode permet de gérer de nombreux cas avec des fonctions standards et sur mesure."
   ]
  },
  {
   "cell_type": "markdown",
   "metadata": {
    "slideshow": {
     "slide_type": "subslide"
    }
   },
   "source": [
    "**Exercice :**\n",
    "    \n",
    "Afficher un tableau Pivot pour les données AirBnB."
   ]
  },
  {
   "cell_type": "code",
   "execution_count": 81,
   "metadata": {},
   "outputs": [],
   "source": [
    "# on définit un \n",
    "def moy2(x):\n",
    "    return x.mean()/x.var()"
   ]
  },
  {
   "cell_type": "markdown",
   "metadata": {},
   "source": [
    "On croise le room_type avec le niveau de prix et on regarde le review_score_rating moyen + le nombre d'occurences et une fonction \"maison\" :"
   ]
  },
  {
   "cell_type": "code",
   "execution_count": 82,
   "metadata": {},
   "outputs": [
    {
     "data": {
      "text/html": [
       "<div>\n",
       "<style scoped>\n",
       "    .dataframe tbody tr th:only-of-type {\n",
       "        vertical-align: middle;\n",
       "    }\n",
       "\n",
       "    .dataframe tbody tr th {\n",
       "        vertical-align: top;\n",
       "    }\n",
       "\n",
       "    .dataframe thead tr th {\n",
       "        text-align: left;\n",
       "    }\n",
       "\n",
       "    .dataframe thead tr:last-of-type th {\n",
       "        text-align: right;\n",
       "    }\n",
       "</style>\n",
       "<table border=\"1\" class=\"dataframe\">\n",
       "  <thead>\n",
       "    <tr>\n",
       "      <th></th>\n",
       "      <th colspan=\"10\" halign=\"left\">count</th>\n",
       "      <th>...</th>\n",
       "      <th colspan=\"10\" halign=\"left\">moy2</th>\n",
       "    </tr>\n",
       "    <tr>\n",
       "      <th></th>\n",
       "      <th colspan=\"5\" halign=\"left\">review_scores_cleanliness</th>\n",
       "      <th colspan=\"5\" halign=\"left\">review_scores_rating</th>\n",
       "      <th>...</th>\n",
       "      <th colspan=\"5\" halign=\"left\">review_scores_cleanliness</th>\n",
       "      <th colspan=\"5\" halign=\"left\">review_scores_rating</th>\n",
       "    </tr>\n",
       "    <tr>\n",
       "      <th>price_disc2</th>\n",
       "      <th>(-0.001, 53.0]</th>\n",
       "      <th>(53.0, 70.0]</th>\n",
       "      <th>(70.0, 94.0]</th>\n",
       "      <th>(94.0, 140.0]</th>\n",
       "      <th>(140.0, 9379.0]</th>\n",
       "      <th>(-0.001, 53.0]</th>\n",
       "      <th>(53.0, 70.0]</th>\n",
       "      <th>(70.0, 94.0]</th>\n",
       "      <th>(94.0, 140.0]</th>\n",
       "      <th>(140.0, 9379.0]</th>\n",
       "      <th>...</th>\n",
       "      <th>(-0.001, 53.0]</th>\n",
       "      <th>(53.0, 70.0]</th>\n",
       "      <th>(70.0, 94.0]</th>\n",
       "      <th>(94.0, 140.0]</th>\n",
       "      <th>(140.0, 9379.0]</th>\n",
       "      <th>(-0.001, 53.0]</th>\n",
       "      <th>(53.0, 70.0]</th>\n",
       "      <th>(70.0, 94.0]</th>\n",
       "      <th>(94.0, 140.0]</th>\n",
       "      <th>(140.0, 9379.0]</th>\n",
       "    </tr>\n",
       "    <tr>\n",
       "      <th>room_type</th>\n",
       "      <th></th>\n",
       "      <th></th>\n",
       "      <th></th>\n",
       "      <th></th>\n",
       "      <th></th>\n",
       "      <th></th>\n",
       "      <th></th>\n",
       "      <th></th>\n",
       "      <th></th>\n",
       "      <th></th>\n",
       "      <th></th>\n",
       "      <th></th>\n",
       "      <th></th>\n",
       "      <th></th>\n",
       "      <th></th>\n",
       "      <th></th>\n",
       "      <th></th>\n",
       "      <th></th>\n",
       "      <th></th>\n",
       "      <th></th>\n",
       "      <th></th>\n",
       "    </tr>\n",
       "  </thead>\n",
       "  <tbody>\n",
       "    <tr>\n",
       "      <th>Entire home/apt</th>\n",
       "      <td>6116</td>\n",
       "      <td>8387</td>\n",
       "      <td>8255</td>\n",
       "      <td>8935</td>\n",
       "      <td>7614</td>\n",
       "      <td>6125</td>\n",
       "      <td>8397</td>\n",
       "      <td>8260</td>\n",
       "      <td>8939</td>\n",
       "      <td>7617</td>\n",
       "      <td>...</td>\n",
       "      <td>6.075027</td>\n",
       "      <td>7.612211</td>\n",
       "      <td>8.877412</td>\n",
       "      <td>9.612459</td>\n",
       "      <td>9.508189</td>\n",
       "      <td>1.167378</td>\n",
       "      <td>1.318967</td>\n",
       "      <td>1.504656</td>\n",
       "      <td>1.513630</td>\n",
       "      <td>1.274582</td>\n",
       "    </tr>\n",
       "    <tr>\n",
       "      <th>Private room</th>\n",
       "      <td>2882</td>\n",
       "      <td>1138</td>\n",
       "      <td>565</td>\n",
       "      <td>497</td>\n",
       "      <td>377</td>\n",
       "      <td>2888</td>\n",
       "      <td>1139</td>\n",
       "      <td>567</td>\n",
       "      <td>498</td>\n",
       "      <td>377</td>\n",
       "      <td>...</td>\n",
       "      <td>7.543198</td>\n",
       "      <td>8.525134</td>\n",
       "      <td>10.140190</td>\n",
       "      <td>11.460844</td>\n",
       "      <td>10.486628</td>\n",
       "      <td>1.367265</td>\n",
       "      <td>1.802542</td>\n",
       "      <td>1.297678</td>\n",
       "      <td>1.235814</td>\n",
       "      <td>0.631607</td>\n",
       "    </tr>\n",
       "    <tr>\n",
       "      <th>Shared room</th>\n",
       "      <td>276</td>\n",
       "      <td>31</td>\n",
       "      <td>9</td>\n",
       "      <td>12</td>\n",
       "      <td>4</td>\n",
       "      <td>276</td>\n",
       "      <td>31</td>\n",
       "      <td>9</td>\n",
       "      <td>12</td>\n",
       "      <td>4</td>\n",
       "      <td>...</td>\n",
       "      <td>6.694956</td>\n",
       "      <td>3.843085</td>\n",
       "      <td>7.200000</td>\n",
       "      <td>4.753086</td>\n",
       "      <td>2.318182</td>\n",
       "      <td>0.750254</td>\n",
       "      <td>0.443909</td>\n",
       "      <td>1.606953</td>\n",
       "      <td>0.742707</td>\n",
       "      <td>0.943010</td>\n",
       "    </tr>\n",
       "  </tbody>\n",
       "</table>\n",
       "<p>3 rows × 30 columns</p>\n",
       "</div>"
      ],
      "text/plain": [
       "                                    count                            \\\n",
       "                review_scores_cleanliness                             \n",
       "price_disc2                (-0.001, 53.0] (53.0, 70.0] (70.0, 94.0]   \n",
       "room_type                                                             \n",
       "Entire home/apt                      6116         8387         8255   \n",
       "Private room                         2882         1138          565   \n",
       "Shared room                           276           31            9   \n",
       "\n",
       "                                                                    \\\n",
       "                                              review_scores_rating   \n",
       "price_disc2     (94.0, 140.0] (140.0, 9379.0]       (-0.001, 53.0]   \n",
       "room_type                                                            \n",
       "Entire home/apt          8935            7614                 6125   \n",
       "Private room              497             377                 2888   \n",
       "Shared room                12               4                  276   \n",
       "\n",
       "                                                                         ...  \\\n",
       "                                                                         ...   \n",
       "price_disc2     (53.0, 70.0] (70.0, 94.0] (94.0, 140.0] (140.0, 9379.0]  ...   \n",
       "room_type                                                                ...   \n",
       "Entire home/apt         8397         8260          8939            7617  ...   \n",
       "Private room            1139          567           498             377  ...   \n",
       "Shared room               31            9            12               4  ...   \n",
       "\n",
       "                                     moy2                            \\\n",
       "                review_scores_cleanliness                             \n",
       "price_disc2                (-0.001, 53.0] (53.0, 70.0] (70.0, 94.0]   \n",
       "room_type                                                             \n",
       "Entire home/apt                  6.075027     7.612211     8.877412   \n",
       "Private room                     7.543198     8.525134    10.140190   \n",
       "Shared room                      6.694956     3.843085     7.200000   \n",
       "\n",
       "                                                                    \\\n",
       "                                              review_scores_rating   \n",
       "price_disc2     (94.0, 140.0] (140.0, 9379.0]       (-0.001, 53.0]   \n",
       "room_type                                                            \n",
       "Entire home/apt      9.612459        9.508189             1.167378   \n",
       "Private room        11.460844       10.486628             1.367265   \n",
       "Shared room          4.753086        2.318182             0.750254   \n",
       "\n",
       "                                                                         \n",
       "                                                                         \n",
       "price_disc2     (53.0, 70.0] (70.0, 94.0] (94.0, 140.0] (140.0, 9379.0]  \n",
       "room_type                                                                \n",
       "Entire home/apt     1.318967     1.504656      1.513630        1.274582  \n",
       "Private room        1.802542     1.297678      1.235814        0.631607  \n",
       "Shared room         0.443909     1.606953      0.742707        0.943010  \n",
       "\n",
       "[3 rows x 30 columns]"
      ]
     },
     "execution_count": 82,
     "metadata": {},
     "output_type": "execute_result"
    }
   ],
   "source": [
    "airbnb['room_type']\n",
    "airbnb['price_disc2']\n",
    "airbnb['review_scores_rating']\n",
    "airbnb.pivot_table(values=[\"review_scores_rating\",'review_scores_cleanliness'],\n",
    "                   index=\"room_type\",\n",
    "                   columns='price_disc2',aggfunc=[\"count\",\"mean\",moy2])"
   ]
  },
  {
   "cell_type": "markdown",
   "metadata": {
    "slideshow": {
     "slide_type": "slide"
    }
   },
   "source": [
    "# L'utilisation de GroupBy sur des DataFrame\n",
    "\n",
    "- `.groupby` permet de rassembler des observations en fonction d’une variable dite de groupe\n",
    "\n",
    "\n",
    "- Par exemple, `frame.groupby('X').mean()` donnera les moyennes par groupes de `X`\n",
    "\n",
    "\n",
    "- On peut aussi utiliser `.size()` pour connaître la taille des groupes et utiliser d’autres fonctions (`.sum()`)\n",
    "\n",
    "\n",
    "- On peut effectuer de nombreuses opérations de traitement avec le groupby\n"
   ]
  },
  {
   "cell_type": "code",
   "execution_count": 83,
   "metadata": {},
   "outputs": [
    {
     "data": {
      "text/html": [
       "<div>\n",
       "<style scoped>\n",
       "    .dataframe tbody tr th:only-of-type {\n",
       "        vertical-align: middle;\n",
       "    }\n",
       "\n",
       "    .dataframe tbody tr th {\n",
       "        vertical-align: top;\n",
       "    }\n",
       "\n",
       "    .dataframe thead th {\n",
       "        text-align: right;\n",
       "    }\n",
       "</style>\n",
       "<table border=\"1\" class=\"dataframe\">\n",
       "  <thead>\n",
       "    <tr style=\"text-align: right;\">\n",
       "      <th></th>\n",
       "      <th></th>\n",
       "      <th>count</th>\n",
       "      <th>mean</th>\n",
       "      <th>std</th>\n",
       "      <th>min</th>\n",
       "      <th>25%</th>\n",
       "      <th>50%</th>\n",
       "      <th>75%</th>\n",
       "      <th>max</th>\n",
       "    </tr>\n",
       "    <tr>\n",
       "      <th>room_type</th>\n",
       "      <th>price_disc2</th>\n",
       "      <th></th>\n",
       "      <th></th>\n",
       "      <th></th>\n",
       "      <th></th>\n",
       "      <th></th>\n",
       "      <th></th>\n",
       "      <th></th>\n",
       "      <th></th>\n",
       "    </tr>\n",
       "  </thead>\n",
       "  <tbody>\n",
       "    <tr>\n",
       "      <th rowspan=\"5\" valign=\"top\">Entire home/apt</th>\n",
       "      <th>(-0.001, 53.0]</th>\n",
       "      <td>7866.0</td>\n",
       "      <td>43.600178</td>\n",
       "      <td>7.316925</td>\n",
       "      <td>0.0</td>\n",
       "      <td>40.0</td>\n",
       "      <td>45.0</td>\n",
       "      <td>50.00</td>\n",
       "      <td>53.0</td>\n",
       "    </tr>\n",
       "    <tr>\n",
       "      <th>(53.0, 70.0]</th>\n",
       "      <td>10758.0</td>\n",
       "      <td>63.152445</td>\n",
       "      <td>5.343269</td>\n",
       "      <td>54.0</td>\n",
       "      <td>60.0</td>\n",
       "      <td>63.0</td>\n",
       "      <td>69.00</td>\n",
       "      <td>70.0</td>\n",
       "    </tr>\n",
       "    <tr>\n",
       "      <th>(70.0, 94.0]</th>\n",
       "      <td>10642.0</td>\n",
       "      <td>82.359801</td>\n",
       "      <td>5.907960</td>\n",
       "      <td>71.0</td>\n",
       "      <td>79.0</td>\n",
       "      <td>80.0</td>\n",
       "      <td>89.00</td>\n",
       "      <td>94.0</td>\n",
       "    </tr>\n",
       "    <tr>\n",
       "      <th>(94.0, 140.0]</th>\n",
       "      <td>11572.0</td>\n",
       "      <td>112.378241</td>\n",
       "      <td>13.767830</td>\n",
       "      <td>95.0</td>\n",
       "      <td>100.0</td>\n",
       "      <td>110.0</td>\n",
       "      <td>120.00</td>\n",
       "      <td>140.0</td>\n",
       "    </tr>\n",
       "    <tr>\n",
       "      <th>(140.0, 9379.0]</th>\n",
       "      <td>10294.0</td>\n",
       "      <td>271.713037</td>\n",
       "      <td>295.084974</td>\n",
       "      <td>141.0</td>\n",
       "      <td>160.0</td>\n",
       "      <td>200.0</td>\n",
       "      <td>280.00</td>\n",
       "      <td>9379.0</td>\n",
       "    </tr>\n",
       "    <tr>\n",
       "      <th rowspan=\"5\" valign=\"top\">Private room</th>\n",
       "      <th>(-0.001, 53.0]</th>\n",
       "      <td>3694.0</td>\n",
       "      <td>39.138332</td>\n",
       "      <td>8.811199</td>\n",
       "      <td>8.0</td>\n",
       "      <td>33.0</td>\n",
       "      <td>40.0</td>\n",
       "      <td>46.00</td>\n",
       "      <td>53.0</td>\n",
       "    </tr>\n",
       "    <tr>\n",
       "      <th>(53.0, 70.0]</th>\n",
       "      <td>1417.0</td>\n",
       "      <td>62.137615</td>\n",
       "      <td>5.286172</td>\n",
       "      <td>54.0</td>\n",
       "      <td>59.0</td>\n",
       "      <td>60.0</td>\n",
       "      <td>66.00</td>\n",
       "      <td>70.0</td>\n",
       "    </tr>\n",
       "    <tr>\n",
       "      <th>(70.0, 94.0]</th>\n",
       "      <td>753.0</td>\n",
       "      <td>81.745020</td>\n",
       "      <td>5.727528</td>\n",
       "      <td>71.0</td>\n",
       "      <td>77.0</td>\n",
       "      <td>80.0</td>\n",
       "      <td>87.00</td>\n",
       "      <td>94.0</td>\n",
       "    </tr>\n",
       "    <tr>\n",
       "      <th>(94.0, 140.0]</th>\n",
       "      <td>750.0</td>\n",
       "      <td>111.836000</td>\n",
       "      <td>13.031585</td>\n",
       "      <td>95.0</td>\n",
       "      <td>100.0</td>\n",
       "      <td>110.0</td>\n",
       "      <td>120.00</td>\n",
       "      <td>140.0</td>\n",
       "    </tr>\n",
       "    <tr>\n",
       "      <th>(140.0, 9379.0]</th>\n",
       "      <td>913.0</td>\n",
       "      <td>518.269441</td>\n",
       "      <td>492.555124</td>\n",
       "      <td>143.0</td>\n",
       "      <td>180.0</td>\n",
       "      <td>299.0</td>\n",
       "      <td>1000.00</td>\n",
       "      <td>8932.0</td>\n",
       "    </tr>\n",
       "    <tr>\n",
       "      <th rowspan=\"5\" valign=\"top\">Shared room</th>\n",
       "      <th>(-0.001, 53.0]</th>\n",
       "      <td>373.0</td>\n",
       "      <td>30.852547</td>\n",
       "      <td>10.128859</td>\n",
       "      <td>9.0</td>\n",
       "      <td>22.0</td>\n",
       "      <td>30.0</td>\n",
       "      <td>39.00</td>\n",
       "      <td>53.0</td>\n",
       "    </tr>\n",
       "    <tr>\n",
       "      <th>(53.0, 70.0]</th>\n",
       "      <td>51.0</td>\n",
       "      <td>61.686275</td>\n",
       "      <td>4.826967</td>\n",
       "      <td>54.0</td>\n",
       "      <td>59.0</td>\n",
       "      <td>60.0</td>\n",
       "      <td>65.00</td>\n",
       "      <td>70.0</td>\n",
       "    </tr>\n",
       "    <tr>\n",
       "      <th>(70.0, 94.0]</th>\n",
       "      <td>13.0</td>\n",
       "      <td>79.692308</td>\n",
       "      <td>5.807820</td>\n",
       "      <td>71.0</td>\n",
       "      <td>75.0</td>\n",
       "      <td>80.0</td>\n",
       "      <td>85.00</td>\n",
       "      <td>90.0</td>\n",
       "    </tr>\n",
       "    <tr>\n",
       "      <th>(94.0, 140.0]</th>\n",
       "      <td>16.0</td>\n",
       "      <td>108.812500</td>\n",
       "      <td>14.185527</td>\n",
       "      <td>95.0</td>\n",
       "      <td>100.0</td>\n",
       "      <td>100.0</td>\n",
       "      <td>119.25</td>\n",
       "      <td>139.0</td>\n",
       "    </tr>\n",
       "    <tr>\n",
       "      <th>(140.0, 9379.0]</th>\n",
       "      <td>14.0</td>\n",
       "      <td>924.357143</td>\n",
       "      <td>1276.929587</td>\n",
       "      <td>150.0</td>\n",
       "      <td>225.0</td>\n",
       "      <td>500.0</td>\n",
       "      <td>1000.00</td>\n",
       "      <td>5000.0</td>\n",
       "    </tr>\n",
       "  </tbody>\n",
       "</table>\n",
       "</div>"
      ],
      "text/plain": [
       "                                   count        mean          std    min  \\\n",
       "room_type       price_disc2                                                \n",
       "Entire home/apt (-0.001, 53.0]    7866.0   43.600178     7.316925    0.0   \n",
       "                (53.0, 70.0]     10758.0   63.152445     5.343269   54.0   \n",
       "                (70.0, 94.0]     10642.0   82.359801     5.907960   71.0   \n",
       "                (94.0, 140.0]    11572.0  112.378241    13.767830   95.0   \n",
       "                (140.0, 9379.0]  10294.0  271.713037   295.084974  141.0   \n",
       "Private room    (-0.001, 53.0]    3694.0   39.138332     8.811199    8.0   \n",
       "                (53.0, 70.0]      1417.0   62.137615     5.286172   54.0   \n",
       "                (70.0, 94.0]       753.0   81.745020     5.727528   71.0   \n",
       "                (94.0, 140.0]      750.0  111.836000    13.031585   95.0   \n",
       "                (140.0, 9379.0]    913.0  518.269441   492.555124  143.0   \n",
       "Shared room     (-0.001, 53.0]     373.0   30.852547    10.128859    9.0   \n",
       "                (53.0, 70.0]        51.0   61.686275     4.826967   54.0   \n",
       "                (70.0, 94.0]        13.0   79.692308     5.807820   71.0   \n",
       "                (94.0, 140.0]       16.0  108.812500    14.185527   95.0   \n",
       "                (140.0, 9379.0]     14.0  924.357143  1276.929587  150.0   \n",
       "\n",
       "                                   25%    50%      75%     max  \n",
       "room_type       price_disc2                                     \n",
       "Entire home/apt (-0.001, 53.0]    40.0   45.0    50.00    53.0  \n",
       "                (53.0, 70.0]      60.0   63.0    69.00    70.0  \n",
       "                (70.0, 94.0]      79.0   80.0    89.00    94.0  \n",
       "                (94.0, 140.0]    100.0  110.0   120.00   140.0  \n",
       "                (140.0, 9379.0]  160.0  200.0   280.00  9379.0  \n",
       "Private room    (-0.001, 53.0]    33.0   40.0    46.00    53.0  \n",
       "                (53.0, 70.0]      59.0   60.0    66.00    70.0  \n",
       "                (70.0, 94.0]      77.0   80.0    87.00    94.0  \n",
       "                (94.0, 140.0]    100.0  110.0   120.00   140.0  \n",
       "                (140.0, 9379.0]  180.0  299.0  1000.00  8932.0  \n",
       "Shared room     (-0.001, 53.0]    22.0   30.0    39.00    53.0  \n",
       "                (53.0, 70.0]      59.0   60.0    65.00    70.0  \n",
       "                (70.0, 94.0]      75.0   80.0    85.00    90.0  \n",
       "                (94.0, 140.0]    100.0  100.0   119.25   139.0  \n",
       "                (140.0, 9379.0]  225.0  500.0  1000.00  5000.0  "
      ]
     },
     "execution_count": 83,
     "metadata": {},
     "output_type": "execute_result"
    }
   ],
   "source": [
    "airbnb_group_room = airbnb.groupby(['room_type','price_disc2'])\n",
    "\n",
    "airbnb_group_room[\"price_num\"].describe()"
   ]
  },
  {
   "cell_type": "code",
   "execution_count": 84,
   "metadata": {},
   "outputs": [
    {
     "data": {
      "text/html": [
       "<div>\n",
       "<style scoped>\n",
       "    .dataframe tbody tr th:only-of-type {\n",
       "        vertical-align: middle;\n",
       "    }\n",
       "\n",
       "    .dataframe tbody tr th {\n",
       "        vertical-align: top;\n",
       "    }\n",
       "\n",
       "    .dataframe thead th {\n",
       "        text-align: right;\n",
       "    }\n",
       "</style>\n",
       "<table border=\"1\" class=\"dataframe\">\n",
       "  <thead>\n",
       "    <tr style=\"text-align: right;\">\n",
       "      <th></th>\n",
       "      <th></th>\n",
       "      <th>mean</th>\n",
       "      <th>median</th>\n",
       "      <th>std</th>\n",
       "      <th>count</th>\n",
       "    </tr>\n",
       "    <tr>\n",
       "      <th>room_type</th>\n",
       "      <th>price_disc2</th>\n",
       "      <th></th>\n",
       "      <th></th>\n",
       "      <th></th>\n",
       "      <th></th>\n",
       "    </tr>\n",
       "  </thead>\n",
       "  <tbody>\n",
       "    <tr>\n",
       "      <th rowspan=\"5\" valign=\"top\">Entire home/apt</th>\n",
       "      <th>(-0.001, 53.0]</th>\n",
       "      <td>43.600178</td>\n",
       "      <td>45.0</td>\n",
       "      <td>7.316925</td>\n",
       "      <td>7866</td>\n",
       "    </tr>\n",
       "    <tr>\n",
       "      <th>(53.0, 70.0]</th>\n",
       "      <td>63.152445</td>\n",
       "      <td>63.0</td>\n",
       "      <td>5.343269</td>\n",
       "      <td>10758</td>\n",
       "    </tr>\n",
       "    <tr>\n",
       "      <th>(70.0, 94.0]</th>\n",
       "      <td>82.359801</td>\n",
       "      <td>80.0</td>\n",
       "      <td>5.907960</td>\n",
       "      <td>10642</td>\n",
       "    </tr>\n",
       "    <tr>\n",
       "      <th>(94.0, 140.0]</th>\n",
       "      <td>112.378241</td>\n",
       "      <td>110.0</td>\n",
       "      <td>13.767830</td>\n",
       "      <td>11572</td>\n",
       "    </tr>\n",
       "    <tr>\n",
       "      <th>(140.0, 9379.0]</th>\n",
       "      <td>271.713037</td>\n",
       "      <td>200.0</td>\n",
       "      <td>295.084974</td>\n",
       "      <td>10294</td>\n",
       "    </tr>\n",
       "    <tr>\n",
       "      <th rowspan=\"5\" valign=\"top\">Private room</th>\n",
       "      <th>(-0.001, 53.0]</th>\n",
       "      <td>39.138332</td>\n",
       "      <td>40.0</td>\n",
       "      <td>8.811199</td>\n",
       "      <td>3694</td>\n",
       "    </tr>\n",
       "    <tr>\n",
       "      <th>(53.0, 70.0]</th>\n",
       "      <td>62.137615</td>\n",
       "      <td>60.0</td>\n",
       "      <td>5.286172</td>\n",
       "      <td>1417</td>\n",
       "    </tr>\n",
       "    <tr>\n",
       "      <th>(70.0, 94.0]</th>\n",
       "      <td>81.745020</td>\n",
       "      <td>80.0</td>\n",
       "      <td>5.727528</td>\n",
       "      <td>753</td>\n",
       "    </tr>\n",
       "    <tr>\n",
       "      <th>(94.0, 140.0]</th>\n",
       "      <td>111.836000</td>\n",
       "      <td>110.0</td>\n",
       "      <td>13.031585</td>\n",
       "      <td>750</td>\n",
       "    </tr>\n",
       "    <tr>\n",
       "      <th>(140.0, 9379.0]</th>\n",
       "      <td>518.269441</td>\n",
       "      <td>299.0</td>\n",
       "      <td>492.555124</td>\n",
       "      <td>913</td>\n",
       "    </tr>\n",
       "    <tr>\n",
       "      <th rowspan=\"5\" valign=\"top\">Shared room</th>\n",
       "      <th>(-0.001, 53.0]</th>\n",
       "      <td>30.852547</td>\n",
       "      <td>30.0</td>\n",
       "      <td>10.128859</td>\n",
       "      <td>373</td>\n",
       "    </tr>\n",
       "    <tr>\n",
       "      <th>(53.0, 70.0]</th>\n",
       "      <td>61.686275</td>\n",
       "      <td>60.0</td>\n",
       "      <td>4.826967</td>\n",
       "      <td>51</td>\n",
       "    </tr>\n",
       "    <tr>\n",
       "      <th>(70.0, 94.0]</th>\n",
       "      <td>79.692308</td>\n",
       "      <td>80.0</td>\n",
       "      <td>5.807820</td>\n",
       "      <td>13</td>\n",
       "    </tr>\n",
       "    <tr>\n",
       "      <th>(94.0, 140.0]</th>\n",
       "      <td>108.812500</td>\n",
       "      <td>100.0</td>\n",
       "      <td>14.185527</td>\n",
       "      <td>16</td>\n",
       "    </tr>\n",
       "    <tr>\n",
       "      <th>(140.0, 9379.0]</th>\n",
       "      <td>924.357143</td>\n",
       "      <td>500.0</td>\n",
       "      <td>1276.929587</td>\n",
       "      <td>14</td>\n",
       "    </tr>\n",
       "  </tbody>\n",
       "</table>\n",
       "</div>"
      ],
      "text/plain": [
       "                                       mean  median          std  count\n",
       "room_type       price_disc2                                            \n",
       "Entire home/apt (-0.001, 53.0]    43.600178    45.0     7.316925   7866\n",
       "                (53.0, 70.0]      63.152445    63.0     5.343269  10758\n",
       "                (70.0, 94.0]      82.359801    80.0     5.907960  10642\n",
       "                (94.0, 140.0]    112.378241   110.0    13.767830  11572\n",
       "                (140.0, 9379.0]  271.713037   200.0   295.084974  10294\n",
       "Private room    (-0.001, 53.0]    39.138332    40.0     8.811199   3694\n",
       "                (53.0, 70.0]      62.137615    60.0     5.286172   1417\n",
       "                (70.0, 94.0]      81.745020    80.0     5.727528    753\n",
       "                (94.0, 140.0]    111.836000   110.0    13.031585    750\n",
       "                (140.0, 9379.0]  518.269441   299.0   492.555124    913\n",
       "Shared room     (-0.001, 53.0]    30.852547    30.0    10.128859    373\n",
       "                (53.0, 70.0]      61.686275    60.0     4.826967     51\n",
       "                (70.0, 94.0]      79.692308    80.0     5.807820     13\n",
       "                (94.0, 140.0]    108.812500   100.0    14.185527     16\n",
       "                (140.0, 9379.0]  924.357143   500.0  1276.929587     14"
      ]
     },
     "execution_count": 84,
     "metadata": {},
     "output_type": "execute_result"
    }
   ],
   "source": [
    "# on peut afficher plusieurs statistiques\n",
    "airbnb_group_room[\"price_num\"].agg([\"mean\",\"median\",\"std\",\"count\"])"
   ]
  },
  {
   "cell_type": "code",
   "execution_count": 85,
   "metadata": {},
   "outputs": [
    {
     "data": {
      "text/html": [
       "<div>\n",
       "<style scoped>\n",
       "    .dataframe tbody tr th:only-of-type {\n",
       "        vertical-align: middle;\n",
       "    }\n",
       "\n",
       "    .dataframe tbody tr th {\n",
       "        vertical-align: top;\n",
       "    }\n",
       "\n",
       "    .dataframe thead th {\n",
       "        text-align: right;\n",
       "    }\n",
       "</style>\n",
       "<table border=\"1\" class=\"dataframe\">\n",
       "  <thead>\n",
       "    <tr style=\"text-align: right;\">\n",
       "      <th></th>\n",
       "      <th></th>\n",
       "      <th>mean</th>\n",
       "      <th>count</th>\n",
       "    </tr>\n",
       "    <tr>\n",
       "      <th>available</th>\n",
       "      <th>jour_semaine</th>\n",
       "      <th></th>\n",
       "      <th></th>\n",
       "    </tr>\n",
       "  </thead>\n",
       "  <tbody>\n",
       "    <tr>\n",
       "      <th rowspan=\"7\" valign=\"top\">f</th>\n",
       "      <th>Friday</th>\n",
       "      <td>93.984082</td>\n",
       "      <td>1489923</td>\n",
       "    </tr>\n",
       "    <tr>\n",
       "      <th>Monday</th>\n",
       "      <td>93.705971</td>\n",
       "      <td>1478706</td>\n",
       "    </tr>\n",
       "    <tr>\n",
       "      <th>Saturday</th>\n",
       "      <td>93.992303</td>\n",
       "      <td>1485071</td>\n",
       "    </tr>\n",
       "    <tr>\n",
       "      <th>Sunday</th>\n",
       "      <td>93.741308</td>\n",
       "      <td>1478014</td>\n",
       "    </tr>\n",
       "    <tr>\n",
       "      <th>Thursday</th>\n",
       "      <td>93.978836</td>\n",
       "      <td>1501862</td>\n",
       "    </tr>\n",
       "    <tr>\n",
       "      <th>Tuesday</th>\n",
       "      <td>93.723649</td>\n",
       "      <td>1481271</td>\n",
       "    </tr>\n",
       "    <tr>\n",
       "      <th>Wednesday</th>\n",
       "      <td>93.845494</td>\n",
       "      <td>1494245</td>\n",
       "    </tr>\n",
       "    <tr>\n",
       "      <th rowspan=\"7\" valign=\"top\">t</th>\n",
       "      <th>Friday</th>\n",
       "      <td>148.109168</td>\n",
       "      <td>409112</td>\n",
       "    </tr>\n",
       "    <tr>\n",
       "      <th>Monday</th>\n",
       "      <td>148.281406</td>\n",
       "      <td>414198</td>\n",
       "    </tr>\n",
       "    <tr>\n",
       "      <th>Saturday</th>\n",
       "      <td>148.030155</td>\n",
       "      <td>408553</td>\n",
       "    </tr>\n",
       "    <tr>\n",
       "      <th>Sunday</th>\n",
       "      <td>148.064497</td>\n",
       "      <td>414890</td>\n",
       "    </tr>\n",
       "    <tr>\n",
       "      <th>Thursday</th>\n",
       "      <td>148.634936</td>\n",
       "      <td>407882</td>\n",
       "    </tr>\n",
       "    <tr>\n",
       "      <th>Tuesday</th>\n",
       "      <td>148.488103</td>\n",
       "      <td>412259</td>\n",
       "    </tr>\n",
       "    <tr>\n",
       "      <th>Wednesday</th>\n",
       "      <td>148.571200</td>\n",
       "      <td>410744</td>\n",
       "    </tr>\n",
       "  </tbody>\n",
       "</table>\n",
       "</div>"
      ],
      "text/plain": [
       "                              mean    count\n",
       "available jour_semaine                     \n",
       "f         Friday         93.984082  1489923\n",
       "          Monday         93.705971  1478706\n",
       "          Saturday       93.992303  1485071\n",
       "          Sunday         93.741308  1478014\n",
       "          Thursday       93.978836  1501862\n",
       "          Tuesday        93.723649  1481271\n",
       "          Wednesday      93.845494  1494245\n",
       "t         Friday        148.109168   409112\n",
       "          Monday        148.281406   414198\n",
       "          Saturday      148.030155   408553\n",
       "          Sunday        148.064497   414890\n",
       "          Thursday      148.634936   407882\n",
       "          Tuesday       148.488103   412259\n",
       "          Wednesday     148.571200   410744"
      ]
     },
     "execution_count": 85,
     "metadata": {},
     "output_type": "execute_result"
    }
   ],
   "source": [
    "new_airbnb.groupby(['available','jour_semaine'])[\"price_num\"].agg([\"mean\",\"count\"])"
   ]
  },
  {
   "cell_type": "markdown",
   "metadata": {},
   "source": [
    "Essayez d'utiliser une fonction lambda sur le groupby"
   ]
  },
  {
   "cell_type": "markdown",
   "metadata": {
    "slideshow": {
     "slide_type": "subslide"
    }
   },
   "source": [
    "**Exercice :**\n",
    "    \n",
    "- Données sur les salaires\n",
    "\n",
    "\n",
    "- On utilise le `groupby()` pour rassembler les types d’emploi\n",
    "\n",
    "\n",
    "- Et on calcule des statistiques pour chaque type\n",
    "\n",
    "\n",
    "On peut utiliser la méthode `.agg()` avec par exemple `'mean'` comme paramètre\n",
    "\n",
    "On utilise aussi fréquemment la méthode `.apply()` combinée à une fonction lambda"
   ]
  },
  {
   "cell_type": "code",
   "execution_count": 86,
   "metadata": {},
   "outputs": [],
   "source": [
    "# on passe tous les JobTitle en minuscule\n",
    "salaries[\"JobTitle\"]= salaries[\"JobTitle\"].str.lower()"
   ]
  },
  {
   "cell_type": "code",
   "execution_count": 87,
   "metadata": {},
   "outputs": [
    {
     "data": {
      "text/plain": [
       "1637"
      ]
     },
     "execution_count": 87,
     "metadata": {},
     "output_type": "execute_result"
    }
   ],
   "source": [
    "# nombre de JobTitle différents\n",
    "salaries[\"JobTitle\"].nunique()"
   ]
  },
  {
   "cell_type": "code",
   "execution_count": 88,
   "metadata": {},
   "outputs": [
    {
     "data": {
      "text/plain": [
       "JobTitle\n",
       "general manager-metropolitan transit authority    399211.275000\n",
       "chief investment officer                          339653.700000\n",
       "chief, fire department                            325971.683333\n",
       "chief of police                                   313885.882500\n",
       "deputy director of investments                    307899.460000\n",
       "                                                      ...      \n",
       "commissioner 16.700c, no pay                          25.760000\n",
       "drug court coordinator                                 0.000000\n",
       "public safety comm tech                                0.000000\n",
       "is technician assistant                                0.000000\n",
       "not provided                                           0.000000\n",
       "Name: TotalPay, Length: 1637, dtype: float64"
      ]
     },
     "execution_count": 88,
     "metadata": {},
     "output_type": "execute_result"
    }
   ],
   "source": [
    "salaries.groupby(\"JobTitle\")[\"TotalPay\"].mean().sort_values(ascending=False)"
   ]
  },
  {
   "cell_type": "code",
   "execution_count": 89,
   "metadata": {},
   "outputs": [
    {
     "data": {
      "text/html": [
       "<div>\n",
       "<style scoped>\n",
       "    .dataframe tbody tr th:only-of-type {\n",
       "        vertical-align: middle;\n",
       "    }\n",
       "\n",
       "    .dataframe tbody tr th {\n",
       "        vertical-align: top;\n",
       "    }\n",
       "\n",
       "    .dataframe thead th {\n",
       "        text-align: right;\n",
       "    }\n",
       "</style>\n",
       "<table border=\"1\" class=\"dataframe\">\n",
       "  <thead>\n",
       "    <tr style=\"text-align: right;\">\n",
       "      <th></th>\n",
       "      <th>mean</th>\n",
       "      <th>count</th>\n",
       "    </tr>\n",
       "    <tr>\n",
       "      <th>JobTitle</th>\n",
       "      <th></th>\n",
       "      <th></th>\n",
       "    </tr>\n",
       "  </thead>\n",
       "  <tbody>\n",
       "    <tr>\n",
       "      <th>transit operator</th>\n",
       "      <td>63958.939444</td>\n",
       "      <td>9424</td>\n",
       "    </tr>\n",
       "    <tr>\n",
       "      <th>special nurse</th>\n",
       "      <td>32717.231561</td>\n",
       "      <td>5791</td>\n",
       "    </tr>\n",
       "    <tr>\n",
       "      <th>registered nurse</th>\n",
       "      <td>113466.920872</td>\n",
       "      <td>4955</td>\n",
       "    </tr>\n",
       "    <tr>\n",
       "      <th>custodian</th>\n",
       "      <td>45448.577343</td>\n",
       "      <td>3214</td>\n",
       "    </tr>\n",
       "    <tr>\n",
       "      <th>firefighter</th>\n",
       "      <td>144222.334675</td>\n",
       "      <td>3153</td>\n",
       "    </tr>\n",
       "    <tr>\n",
       "      <th>...</th>\n",
       "      <td>...</td>\n",
       "      <td>...</td>\n",
       "    </tr>\n",
       "    <tr>\n",
       "      <th>court assistant, superior court</th>\n",
       "      <td>77698.600000</td>\n",
       "      <td>1</td>\n",
       "    </tr>\n",
       "    <tr>\n",
       "      <th>shelter office assistant supervisor</th>\n",
       "      <td>56855.980000</td>\n",
       "      <td>1</td>\n",
       "    </tr>\n",
       "    <tr>\n",
       "      <th>shelter office supervisor</th>\n",
       "      <td>63313.140000</td>\n",
       "      <td>1</td>\n",
       "    </tr>\n",
       "    <tr>\n",
       "      <th>court ad resolution coordinator</th>\n",
       "      <td>83002.230000</td>\n",
       "      <td>1</td>\n",
       "    </tr>\n",
       "    <tr>\n",
       "      <th>zoo curator</th>\n",
       "      <td>66686.560000</td>\n",
       "      <td>1</td>\n",
       "    </tr>\n",
       "  </tbody>\n",
       "</table>\n",
       "<p>1637 rows × 2 columns</p>\n",
       "</div>"
      ],
      "text/plain": [
       "                                              mean  count\n",
       "JobTitle                                                 \n",
       "transit operator                      63958.939444   9424\n",
       "special nurse                         32717.231561   5791\n",
       "registered nurse                     113466.920872   4955\n",
       "custodian                             45448.577343   3214\n",
       "firefighter                          144222.334675   3153\n",
       "...                                            ...    ...\n",
       "court assistant, superior court       77698.600000      1\n",
       "shelter office assistant supervisor   56855.980000      1\n",
       "shelter office supervisor             63313.140000      1\n",
       "court ad resolution coordinator       83002.230000      1\n",
       "zoo curator                           66686.560000      1\n",
       "\n",
       "[1637 rows x 2 columns]"
      ]
     },
     "execution_count": 89,
     "metadata": {},
     "output_type": "execute_result"
    }
   ],
   "source": [
    "salaries.groupby(\"JobTitle\")[\"TotalPay\"].agg([\"mean\",\"count\"]).sort_values(\"count\",ascending=False)"
   ]
  },
  {
   "cell_type": "markdown",
   "metadata": {},
   "source": [
    "On peut aussi faire des représentations graphiques avancées :"
   ]
  },
  {
   "cell_type": "code",
   "execution_count": 90,
   "metadata": {},
   "outputs": [],
   "source": [
    "import matplotlib.pyplot as plt"
   ]
  },
  {
   "cell_type": "code",
   "execution_count": 91,
   "metadata": {},
   "outputs": [
    {
     "data": {
      "image/png": "[encoded data removed]",
      "text/plain": [
       "<Figure size 720x360 with 2 Axes>"
      ]
     },
     "metadata": {
      "needs_background": "light"
     },
     "output_type": "display_data"
    }
   ],
   "source": [
    "plt.figure(figsize=(10,5))\n",
    "plt.scatter(\"longitude\",\"latitude\", data = airbnb[airbnb[\"price_num\"]<150], s=1,c = \"price_num\", cmap=plt.get_cmap(\"jet\"))\n",
    "plt.colorbar()\n",
    "plt.savefig(\"paris_airbnb.jpg\")"
   ]
  },
  {
   "cell_type": "code",
   "execution_count": 92,
   "metadata": {},
   "outputs": [
    {
     "data": {
      "text/html": [
       "<div>\n",
       "<style scoped>\n",
       "    .dataframe tbody tr th:only-of-type {\n",
       "        vertical-align: middle;\n",
       "    }\n",
       "\n",
       "    .dataframe tbody tr th {\n",
       "        vertical-align: top;\n",
       "    }\n",
       "\n",
       "    .dataframe thead th {\n",
       "        text-align: right;\n",
       "    }\n",
       "</style>\n",
       "<table border=\"1\" class=\"dataframe\">\n",
       "  <thead>\n",
       "    <tr style=\"text-align: right;\">\n",
       "      <th></th>\n",
       "      <th>listing_url</th>\n",
       "      <th>scrape_id</th>\n",
       "      <th>last_scraped</th>\n",
       "      <th>name</th>\n",
       "      <th>summary</th>\n",
       "      <th>space</th>\n",
       "      <th>description</th>\n",
       "      <th>experiences_offered</th>\n",
       "      <th>neighborhood_overview</th>\n",
       "      <th>notes</th>\n",
       "      <th>...</th>\n",
       "      <th>require_guest_profile_picture</th>\n",
       "      <th>require_guest_phone_verification</th>\n",
       "      <th>calculated_host_listings_count</th>\n",
       "      <th>calculated_host_listings_count_entire_homes</th>\n",
       "      <th>calculated_host_listings_count_private_rooms</th>\n",
       "      <th>calculated_host_listings_count_shared_rooms</th>\n",
       "      <th>reviews_per_month</th>\n",
       "      <th>price_num</th>\n",
       "      <th>price_disc1</th>\n",
       "      <th>price_disc2</th>\n",
       "    </tr>\n",
       "    <tr>\n",
       "      <th>id</th>\n",
       "      <th></th>\n",
       "      <th></th>\n",
       "      <th></th>\n",
       "      <th></th>\n",
       "      <th></th>\n",
       "      <th></th>\n",
       "      <th></th>\n",
       "      <th></th>\n",
       "      <th></th>\n",
       "      <th></th>\n",
       "      <th></th>\n",
       "      <th></th>\n",
       "      <th></th>\n",
       "      <th></th>\n",
       "      <th></th>\n",
       "      <th></th>\n",
       "      <th></th>\n",
       "      <th></th>\n",
       "      <th></th>\n",
       "      <th></th>\n",
       "      <th></th>\n",
       "    </tr>\n",
       "  </thead>\n",
       "  <tbody>\n",
       "    <tr>\n",
       "      <th>3109</th>\n",
       "      <td>https://www.airbnb.com/rooms/3109</td>\n",
       "      <td>20190507030954</td>\n",
       "      <td>2019-05-07</td>\n",
       "      <td>zen and calm</td>\n",
       "      <td>Appartement très calme de 50M2 Utilisation de ...</td>\n",
       "      <td>I bedroom appartment in Paris 14</td>\n",
       "      <td>I bedroom appartment in Paris 14 Good restaura...</td>\n",
       "      <td>none</td>\n",
       "      <td>Good restaurants very close the Montparnasse S...</td>\n",
       "      <td>NaN</td>\n",
       "      <td>...</td>\n",
       "      <td>f</td>\n",
       "      <td>f</td>\n",
       "      <td>1</td>\n",
       "      <td>1</td>\n",
       "      <td>0</td>\n",
       "      <td>0</td>\n",
       "      <td>0.28</td>\n",
       "      <td>75.0</td>\n",
       "      <td>(-9.379, 1875.8]</td>\n",
       "      <td>(70.0, 94.0]</td>\n",
       "    </tr>\n",
       "    <tr>\n",
       "      <th>5396</th>\n",
       "      <td>https://www.airbnb.com/rooms/5396</td>\n",
       "      <td>20190507030954</td>\n",
       "      <td>2019-05-08</td>\n",
       "      <td>Explore the heart of old Paris</td>\n",
       "      <td>Cozy, well-appointed and graciously designed s...</td>\n",
       "      <td>Small, well appointed studio apartment at the ...</td>\n",
       "      <td>Cozy, well-appointed and graciously designed s...</td>\n",
       "      <td>none</td>\n",
       "      <td>You are within walking distance to the Louvre,...</td>\n",
       "      <td>The staircase leading up to the apartment is n...</td>\n",
       "      <td>...</td>\n",
       "      <td>f</td>\n",
       "      <td>f</td>\n",
       "      <td>1</td>\n",
       "      <td>1</td>\n",
       "      <td>0</td>\n",
       "      <td>0</td>\n",
       "      <td>1.44</td>\n",
       "      <td>115.0</td>\n",
       "      <td>(-9.379, 1875.8]</td>\n",
       "      <td>(94.0, 140.0]</td>\n",
       "    </tr>\n",
       "    <tr>\n",
       "      <th>7397</th>\n",
       "      <td>https://www.airbnb.com/rooms/7397</td>\n",
       "      <td>20190507030954</td>\n",
       "      <td>2019-05-07</td>\n",
       "      <td>MARAIS - 2ROOMS APT - 2/4 PEOPLE</td>\n",
       "      <td>VERY CONVENIENT, WITH THE BEST LOCATION !</td>\n",
       "      <td>PLEASE ASK ME BEFORE TO MAKE A REQUEST !!! No ...</td>\n",
       "      <td>VERY CONVENIENT, WITH THE BEST LOCATION ! PLEA...</td>\n",
       "      <td>none</td>\n",
       "      <td>NaN</td>\n",
       "      <td>Important: Be conscious that an apartment in a...</td>\n",
       "      <td>...</td>\n",
       "      <td>f</td>\n",
       "      <td>f</td>\n",
       "      <td>1</td>\n",
       "      <td>1</td>\n",
       "      <td>0</td>\n",
       "      <td>0</td>\n",
       "      <td>2.47</td>\n",
       "      <td>115.0</td>\n",
       "      <td>(-9.379, 1875.8]</td>\n",
       "      <td>(94.0, 140.0]</td>\n",
       "    </tr>\n",
       "    <tr>\n",
       "      <th>8522</th>\n",
       "      <td>https://www.airbnb.com/rooms/8522</td>\n",
       "      <td>20190507030954</td>\n",
       "      <td>2019-05-08</td>\n",
       "      <td>GREAT FLAT w/ CITY VIEW</td>\n",
       "      <td>NaN</td>\n",
       "      <td>Really nice flat located in the 20th district ...</td>\n",
       "      <td>Really nice flat located in the 20th district ...</td>\n",
       "      <td>none</td>\n",
       "      <td>NaN</td>\n",
       "      <td>NaN</td>\n",
       "      <td>...</td>\n",
       "      <td>f</td>\n",
       "      <td>f</td>\n",
       "      <td>1</td>\n",
       "      <td>1</td>\n",
       "      <td>0</td>\n",
       "      <td>0</td>\n",
       "      <td>0.01</td>\n",
       "      <td>90.0</td>\n",
       "      <td>(-9.379, 1875.8]</td>\n",
       "      <td>(70.0, 94.0]</td>\n",
       "    </tr>\n",
       "    <tr>\n",
       "      <th>9359</th>\n",
       "      <td>https://www.airbnb.com/rooms/9359</td>\n",
       "      <td>20190507030954</td>\n",
       "      <td>2019-05-07</td>\n",
       "      <td>Cozy, Central Paris: WALK or VELIB EVERYWHERE !</td>\n",
       "      <td>Location! Location! Location! Just bring your ...</td>\n",
       "      <td>Since I live in the USA, it is difficult to ma...</td>\n",
       "      <td>Location! Location! Location! Just bring your ...</td>\n",
       "      <td>none</td>\n",
       "      <td>NaN</td>\n",
       "      <td>Velib station outside.</td>\n",
       "      <td>...</td>\n",
       "      <td>t</td>\n",
       "      <td>t</td>\n",
       "      <td>1</td>\n",
       "      <td>1</td>\n",
       "      <td>0</td>\n",
       "      <td>0</td>\n",
       "      <td>NaN</td>\n",
       "      <td>75.0</td>\n",
       "      <td>(-9.379, 1875.8]</td>\n",
       "      <td>(70.0, 94.0]</td>\n",
       "    </tr>\n",
       "    <tr>\n",
       "      <th>...</th>\n",
       "      <td>...</td>\n",
       "      <td>...</td>\n",
       "      <td>...</td>\n",
       "      <td>...</td>\n",
       "      <td>...</td>\n",
       "      <td>...</td>\n",
       "      <td>...</td>\n",
       "      <td>...</td>\n",
       "      <td>...</td>\n",
       "      <td>...</td>\n",
       "      <td>...</td>\n",
       "      <td>...</td>\n",
       "      <td>...</td>\n",
       "      <td>...</td>\n",
       "      <td>...</td>\n",
       "      <td>...</td>\n",
       "      <td>...</td>\n",
       "      <td>...</td>\n",
       "      <td>...</td>\n",
       "      <td>...</td>\n",
       "      <td>...</td>\n",
       "    </tr>\n",
       "    <tr>\n",
       "      <th>34474398</th>\n",
       "      <td>https://www.airbnb.com/rooms/34474398</td>\n",
       "      <td>20190507030954</td>\n",
       "      <td>2019-05-07</td>\n",
       "      <td>Montmartre, 18ème et bohème.</td>\n",
       "      <td>Charmant deux pièces lumineux à 5 minutes de M...</td>\n",
       "      <td>idéal pour un couple.</td>\n",
       "      <td>Charmant deux pièces lumineux à 5 minutes de M...</td>\n",
       "      <td>none</td>\n",
       "      <td>Toutes les ambiances à proximité : charmant Mo...</td>\n",
       "      <td>NaN</td>\n",
       "      <td>...</td>\n",
       "      <td>f</td>\n",
       "      <td>f</td>\n",
       "      <td>1</td>\n",
       "      <td>1</td>\n",
       "      <td>0</td>\n",
       "      <td>0</td>\n",
       "      <td>NaN</td>\n",
       "      <td>60.0</td>\n",
       "      <td>(-9.379, 1875.8]</td>\n",
       "      <td>(53.0, 70.0]</td>\n",
       "    </tr>\n",
       "    <tr>\n",
       "      <th>34474966</th>\n",
       "      <td>https://www.airbnb.com/rooms/34474966</td>\n",
       "      <td>20190507030954</td>\n",
       "      <td>2019-05-07</td>\n",
       "      <td>Newly renovated Studio in the center of Paris</td>\n",
       "      <td>Newly renovated studio in the center of Paris ...</td>\n",
       "      <td>Completely renovated studio in the heart of Pa...</td>\n",
       "      <td>Newly renovated studio in the center of Paris ...</td>\n",
       "      <td>none</td>\n",
       "      <td>The studio is situated on the border to the 3r...</td>\n",
       "      <td>NaN</td>\n",
       "      <td>...</td>\n",
       "      <td>f</td>\n",
       "      <td>f</td>\n",
       "      <td>1</td>\n",
       "      <td>1</td>\n",
       "      <td>0</td>\n",
       "      <td>0</td>\n",
       "      <td>NaN</td>\n",
       "      <td>50.0</td>\n",
       "      <td>(-9.379, 1875.8]</td>\n",
       "      <td>(-0.001, 53.0]</td>\n",
       "    </tr>\n",
       "    <tr>\n",
       "      <th>34476275</th>\n",
       "      <td>https://www.airbnb.com/rooms/34476275</td>\n",
       "      <td>20190507030954</td>\n",
       "      <td>2019-05-07</td>\n",
       "      <td>Charmante Petite Maison près du Canal Saint Ma...</td>\n",
       "      <td>Charmante petite maison singulière au bord du ...</td>\n",
       "      <td>Maison signifie que vous n'aurez pas à porter ...</td>\n",
       "      <td>Charmante petite maison singulière au bord du ...</td>\n",
       "      <td>none</td>\n",
       "      <td>Le Canal Saint Martin, point fort du tourisme ...</td>\n",
       "      <td>NaN</td>\n",
       "      <td>...</td>\n",
       "      <td>f</td>\n",
       "      <td>f</td>\n",
       "      <td>1</td>\n",
       "      <td>1</td>\n",
       "      <td>0</td>\n",
       "      <td>0</td>\n",
       "      <td>NaN</td>\n",
       "      <td>80.0</td>\n",
       "      <td>(-9.379, 1875.8]</td>\n",
       "      <td>(70.0, 94.0]</td>\n",
       "    </tr>\n",
       "    <tr>\n",
       "      <th>34476597</th>\n",
       "      <td>https://www.airbnb.com/rooms/34476597</td>\n",
       "      <td>20190507030954</td>\n",
       "      <td>2019-05-08</td>\n",
       "      <td>Quiet Pop Art Room / Central</td>\n",
       "      <td>The flat (103 m2), very quiet, is between the ...</td>\n",
       "      <td>The flat is very comfortable : fiber-optic wif...</td>\n",
       "      <td>The flat (103 m2), very quiet, is between the ...</td>\n",
       "      <td>none</td>\n",
       "      <td>The new &amp; lively Ave de France, next door, is ...</td>\n",
       "      <td>Other informations : - All charges included. -...</td>\n",
       "      <td>...</td>\n",
       "      <td>f</td>\n",
       "      <td>f</td>\n",
       "      <td>1</td>\n",
       "      <td>0</td>\n",
       "      <td>1</td>\n",
       "      <td>0</td>\n",
       "      <td>NaN</td>\n",
       "      <td>32.0</td>\n",
       "      <td>(-9.379, 1875.8]</td>\n",
       "      <td>(-0.001, 53.0]</td>\n",
       "    </tr>\n",
       "    <tr>\n",
       "      <th>34477345</th>\n",
       "      <td>https://www.airbnb.com/rooms/34477345</td>\n",
       "      <td>20190507030954</td>\n",
       "      <td>2019-05-07</td>\n",
       "      <td>Appartement au bord du Canal St Martin</td>\n",
       "      <td>Lumineux appartement de 40m2 au bord du Canal ...</td>\n",
       "      <td>Notre joli appartement est composé d'une chamb...</td>\n",
       "      <td>Lumineux appartement de 40m2 au bord du Canal ...</td>\n",
       "      <td>none</td>\n",
       "      <td>Notre appartement est idéalement situé : au pi...</td>\n",
       "      <td>NaN</td>\n",
       "      <td>...</td>\n",
       "      <td>f</td>\n",
       "      <td>f</td>\n",
       "      <td>1</td>\n",
       "      <td>1</td>\n",
       "      <td>0</td>\n",
       "      <td>0</td>\n",
       "      <td>NaN</td>\n",
       "      <td>60.0</td>\n",
       "      <td>(-9.379, 1875.8]</td>\n",
       "      <td>(53.0, 70.0]</td>\n",
       "    </tr>\n",
       "  </tbody>\n",
       "</table>\n",
       "<p>48521 rows × 108 columns</p>\n",
       "</div>"
      ],
      "text/plain": [
       "                                    listing_url       scrape_id last_scraped  \\\n",
       "id                                                                             \n",
       "3109          https://www.airbnb.com/rooms/3109  20190507030954   2019-05-07   \n",
       "5396          https://www.airbnb.com/rooms/5396  20190507030954   2019-05-08   \n",
       "7397          https://www.airbnb.com/rooms/7397  20190507030954   2019-05-07   \n",
       "8522          https://www.airbnb.com/rooms/8522  20190507030954   2019-05-08   \n",
       "9359          https://www.airbnb.com/rooms/9359  20190507030954   2019-05-07   \n",
       "...                                         ...             ...          ...   \n",
       "34474398  https://www.airbnb.com/rooms/34474398  20190507030954   2019-05-07   \n",
       "34474966  https://www.airbnb.com/rooms/34474966  20190507030954   2019-05-07   \n",
       "34476275  https://www.airbnb.com/rooms/34476275  20190507030954   2019-05-07   \n",
       "34476597  https://www.airbnb.com/rooms/34476597  20190507030954   2019-05-08   \n",
       "34477345  https://www.airbnb.com/rooms/34477345  20190507030954   2019-05-07   \n",
       "\n",
       "                                                       name  \\\n",
       "id                                                            \n",
       "3109                                           zen and calm   \n",
       "5396                         Explore the heart of old Paris   \n",
       "7397                       MARAIS - 2ROOMS APT - 2/4 PEOPLE   \n",
       "8522                                GREAT FLAT w/ CITY VIEW   \n",
       "9359        Cozy, Central Paris: WALK or VELIB EVERYWHERE !   \n",
       "...                                                     ...   \n",
       "34474398                       Montmartre, 18ème et bohème.   \n",
       "34474966      Newly renovated Studio in the center of Paris   \n",
       "34476275  Charmante Petite Maison près du Canal Saint Ma...   \n",
       "34476597                       Quiet Pop Art Room / Central   \n",
       "34477345             Appartement au bord du Canal St Martin   \n",
       "\n",
       "                                                    summary  \\\n",
       "id                                                            \n",
       "3109      Appartement très calme de 50M2 Utilisation de ...   \n",
       "5396      Cozy, well-appointed and graciously designed s...   \n",
       "7397              VERY CONVENIENT, WITH THE BEST LOCATION !   \n",
       "8522                                                    NaN   \n",
       "9359      Location! Location! Location! Just bring your ...   \n",
       "...                                                     ...   \n",
       "34474398  Charmant deux pièces lumineux à 5 minutes de M...   \n",
       "34474966  Newly renovated studio in the center of Paris ...   \n",
       "34476275  Charmante petite maison singulière au bord du ...   \n",
       "34476597  The flat (103 m2), very quiet, is between the ...   \n",
       "34477345  Lumineux appartement de 40m2 au bord du Canal ...   \n",
       "\n",
       "                                                      space  \\\n",
       "id                                                            \n",
       "3109                       I bedroom appartment in Paris 14   \n",
       "5396      Small, well appointed studio apartment at the ...   \n",
       "7397      PLEASE ASK ME BEFORE TO MAKE A REQUEST !!! No ...   \n",
       "8522      Really nice flat located in the 20th district ...   \n",
       "9359      Since I live in the USA, it is difficult to ma...   \n",
       "...                                                     ...   \n",
       "34474398                              idéal pour un couple.   \n",
       "34474966  Completely renovated studio in the heart of Pa...   \n",
       "34476275  Maison signifie que vous n'aurez pas à porter ...   \n",
       "34476597  The flat is very comfortable : fiber-optic wif...   \n",
       "34477345  Notre joli appartement est composé d'une chamb...   \n",
       "\n",
       "                                                description  \\\n",
       "id                                                            \n",
       "3109      I bedroom appartment in Paris 14 Good restaura...   \n",
       "5396      Cozy, well-appointed and graciously designed s...   \n",
       "7397      VERY CONVENIENT, WITH THE BEST LOCATION ! PLEA...   \n",
       "8522      Really nice flat located in the 20th district ...   \n",
       "9359      Location! Location! Location! Just bring your ...   \n",
       "...                                                     ...   \n",
       "34474398  Charmant deux pièces lumineux à 5 minutes de M...   \n",
       "34474966  Newly renovated studio in the center of Paris ...   \n",
       "34476275  Charmante petite maison singulière au bord du ...   \n",
       "34476597  The flat (103 m2), very quiet, is between the ...   \n",
       "34477345  Lumineux appartement de 40m2 au bord du Canal ...   \n",
       "\n",
       "         experiences_offered  \\\n",
       "id                             \n",
       "3109                    none   \n",
       "5396                    none   \n",
       "7397                    none   \n",
       "8522                    none   \n",
       "9359                    none   \n",
       "...                      ...   \n",
       "34474398                none   \n",
       "34474966                none   \n",
       "34476275                none   \n",
       "34476597                none   \n",
       "34477345                none   \n",
       "\n",
       "                                      neighborhood_overview  \\\n",
       "id                                                            \n",
       "3109      Good restaurants very close the Montparnasse S...   \n",
       "5396      You are within walking distance to the Louvre,...   \n",
       "7397                                                    NaN   \n",
       "8522                                                    NaN   \n",
       "9359                                                    NaN   \n",
       "...                                                     ...   \n",
       "34474398  Toutes les ambiances à proximité : charmant Mo...   \n",
       "34474966  The studio is situated on the border to the 3r...   \n",
       "34476275  Le Canal Saint Martin, point fort du tourisme ...   \n",
       "34476597  The new & lively Ave de France, next door, is ...   \n",
       "34477345  Notre appartement est idéalement situé : au pi...   \n",
       "\n",
       "                                                      notes  ...  \\\n",
       "id                                                           ...   \n",
       "3109                                                    NaN  ...   \n",
       "5396      The staircase leading up to the apartment is n...  ...   \n",
       "7397      Important: Be conscious that an apartment in a...  ...   \n",
       "8522                                                    NaN  ...   \n",
       "9359                                 Velib station outside.  ...   \n",
       "...                                                     ...  ...   \n",
       "34474398                                                NaN  ...   \n",
       "34474966                                                NaN  ...   \n",
       "34476275                                                NaN  ...   \n",
       "34476597  Other informations : - All charges included. -...  ...   \n",
       "34477345                                                NaN  ...   \n",
       "\n",
       "         require_guest_profile_picture require_guest_phone_verification  \\\n",
       "id                                                                        \n",
       "3109                                 f                                f   \n",
       "5396                                 f                                f   \n",
       "7397                                 f                                f   \n",
       "8522                                 f                                f   \n",
       "9359                                 t                                t   \n",
       "...                                ...                              ...   \n",
       "34474398                             f                                f   \n",
       "34474966                             f                                f   \n",
       "34476275                             f                                f   \n",
       "34476597                             f                                f   \n",
       "34477345                             f                                f   \n",
       "\n",
       "         calculated_host_listings_count  \\\n",
       "id                                        \n",
       "3109                                  1   \n",
       "5396                                  1   \n",
       "7397                                  1   \n",
       "8522                                  1   \n",
       "9359                                  1   \n",
       "...                                 ...   \n",
       "34474398                              1   \n",
       "34474966                              1   \n",
       "34476275                              1   \n",
       "34476597                              1   \n",
       "34477345                              1   \n",
       "\n",
       "         calculated_host_listings_count_entire_homes  \\\n",
       "id                                                     \n",
       "3109                                               1   \n",
       "5396                                               1   \n",
       "7397                                               1   \n",
       "8522                                               1   \n",
       "9359                                               1   \n",
       "...                                              ...   \n",
       "34474398                                           1   \n",
       "34474966                                           1   \n",
       "34476275                                           1   \n",
       "34476597                                           0   \n",
       "34477345                                           1   \n",
       "\n",
       "          calculated_host_listings_count_private_rooms  \\\n",
       "id                                                       \n",
       "3109                                                 0   \n",
       "5396                                                 0   \n",
       "7397                                                 0   \n",
       "8522                                                 0   \n",
       "9359                                                 0   \n",
       "...                                                ...   \n",
       "34474398                                             0   \n",
       "34474966                                             0   \n",
       "34476275                                             0   \n",
       "34476597                                             1   \n",
       "34477345                                             0   \n",
       "\n",
       "          calculated_host_listings_count_shared_rooms reviews_per_month  \\\n",
       "id                                                                        \n",
       "3109                                                0              0.28   \n",
       "5396                                                0              1.44   \n",
       "7397                                                0              2.47   \n",
       "8522                                                0              0.01   \n",
       "9359                                                0               NaN   \n",
       "...                                               ...               ...   \n",
       "34474398                                            0               NaN   \n",
       "34474966                                            0               NaN   \n",
       "34476275                                            0               NaN   \n",
       "34476597                                            0               NaN   \n",
       "34477345                                            0               NaN   \n",
       "\n",
       "          price_num       price_disc1     price_disc2  \n",
       "id                                                     \n",
       "3109           75.0  (-9.379, 1875.8]    (70.0, 94.0]  \n",
       "5396          115.0  (-9.379, 1875.8]   (94.0, 140.0]  \n",
       "7397          115.0  (-9.379, 1875.8]   (94.0, 140.0]  \n",
       "8522           90.0  (-9.379, 1875.8]    (70.0, 94.0]  \n",
       "9359           75.0  (-9.379, 1875.8]    (70.0, 94.0]  \n",
       "...             ...               ...             ...  \n",
       "34474398       60.0  (-9.379, 1875.8]    (53.0, 70.0]  \n",
       "34474966       50.0  (-9.379, 1875.8]  (-0.001, 53.0]  \n",
       "34476275       80.0  (-9.379, 1875.8]    (70.0, 94.0]  \n",
       "34476597       32.0  (-9.379, 1875.8]  (-0.001, 53.0]  \n",
       "34477345       60.0  (-9.379, 1875.8]    (53.0, 70.0]  \n",
       "\n",
       "[48521 rows x 108 columns]"
      ]
     },
     "execution_count": 92,
     "metadata": {},
     "output_type": "execute_result"
    }
   ],
   "source": [
    "airbnb[airbnb[\"price_num\"]<150]"
   ]
  },
  {
   "cell_type": "code",
   "execution_count": null,
   "metadata": {},
   "outputs": [],
   "source": []
  }
 ],
 "metadata": {
  "celltoolbar": "Slideshow",
  "kernelspec": {
   "display_name": "Python 3",
   "language": "python",
   "name": "python3"
  },
  "language_info": {
   "codemirror_mode": {
    "name": "ipython",
    "version": 3
   },
   "file_extension": ".py",
   "mimetype": "text/x-python",
   "name": "python",
   "nbconvert_exporter": "python",
   "pygments_lexer": "ipython3",
   "version": "3.7.6"
  }
 },
 "nbformat": 4,
 "nbformat_minor": 4
}
